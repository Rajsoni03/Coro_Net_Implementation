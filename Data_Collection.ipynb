{
  "nbformat": 4,
  "nbformat_minor": 0,
  "metadata": {
    "colab": {
      "name": "Data Collection.ipynb",
      "provenance": [],
      "collapsed_sections": [
        "nFxsqiamI6o5"
      ],
      "machine_shape": "hm",
      "include_colab_link": true
    },
    "kernelspec": {
      "name": "python3",
      "display_name": "Python 3"
    },
    "accelerator": "GPU"
  },
  "cells": [
    {
      "cell_type": "markdown",
      "metadata": {
        "id": "view-in-github",
        "colab_type": "text"
      },
      "source": [
        "<a href=\"https://colab.research.google.com/github/Rajsoni03/Covid-X-ray-Dataset/blob/main/Data_Collection.ipynb\" target=\"_parent\"><img src=\"https://colab.research.google.com/assets/colab-badge.svg\" alt=\"Open In Colab\"/></a>"
      ]
    },
    {
      "cell_type": "markdown",
      "metadata": {
        "id": "nFxsqiamI6o5"
      },
      "source": [
        "#importing Libraries"
      ]
    },
    {
      "cell_type": "code",
      "metadata": {
        "id": "86v5AXeTIzt8"
      },
      "source": [
        "from tensorflow.keras.preprocessing.image import ImageDataGenerator\n",
        "from tensorflow.keras.utils import to_categorical\n",
        "from sklearn.model_selection import train_test_split\n",
        "from sklearn.preprocessing import LabelBinarizer\n",
        "from imutils import paths\n",
        "\n",
        "import matplotlib.pyplot as plt\n",
        "import pandas as pd\n",
        "import numpy as np\n",
        "import shutil\n",
        "import cv2\n",
        "import os"
      ],
      "execution_count": 91,
      "outputs": []
    },
    {
      "cell_type": "markdown",
      "metadata": {
        "id": "owGUuHTcJkiQ"
      },
      "source": [
        "#Create Dirs"
      ]
    },
    {
      "cell_type": "code",
      "metadata": {
        "id": "01HFnuzbJjwv"
      },
      "source": [
        "os.mkdir('/content/data')\n",
        "os.mkdir('/content/data/train')\n",
        "os.mkdir('/content/data/val')\n",
        "os.mkdir('/content/data/test')\n",
        "\n",
        "\n",
        "os.mkdir('/content/data/train/covid')\n",
        "os.mkdir('/content/data/train/normal')\n",
        "os.mkdir('/content/data/train/pneumonia')\n",
        "\n",
        "os.mkdir('/content/data/val/covid')\n",
        "os.mkdir('/content/data/val/normal')\n",
        "os.mkdir('/content/data/val/pneumonia')\n",
        "\n",
        "os.mkdir('/content/data/test/covid')\n",
        "os.mkdir('/content/data/test/normal')\n",
        "os.mkdir('/content/data/test/pneumonia')\n"
      ],
      "execution_count": 106,
      "outputs": []
    },
    {
      "cell_type": "code",
      "metadata": {
        "id": "X2UGJF5pTykO"
      },
      "source": [
        "main_dir = \"/content/data\"\n",
        "\n",
        "def random_split(images, base_dir, class_name):\n",
        "  length = len(images)\n",
        "  images = images\n",
        "  np.random.shuffle(images)\n",
        "  \n",
        "  no_of_train_end  = int(length * 0.8)\n",
        "  no_of_val_end  = int(length * 0.9)\n",
        "\n",
        "  print('Class:', class_name,'\\nTrain Imgs:', no_of_train_end,'\\nVal Imgs:',length-no_of_val_end,'\\nTest Imgs:',  no_of_val_end-no_of_train_end, end='\\n\\n')\n",
        "\n",
        "  for img in images[:no_of_train_end]:\n",
        "    # print(os.path.join(base_dir, img), os.path.join(os.path.join(os.path.join(main_dir, 'train'), class_name), img))\n",
        "    shutil.copy(os.path.join(base_dir, img), os.path.join(os.path.join(os.path.join(main_dir, 'train'), class_name), img))\n",
        "  for img in images[no_of_val_end:]:\n",
        "    # print(os.path.join(base_dir, img), os.path.join(os.path.join(os.path.join(main_dir, 'val'), class_name), img))\n",
        "    shutil.copy(os.path.join(base_dir, img), os.path.join(os.path.join(os.path.join(main_dir,  'val'), class_name), img))\n",
        "  for img in images[no_of_train_end: no_of_val_end]:\n",
        "    # print(os.path.join(base_dir, img), os.path.join(os.path.join(os.path.join(main_dir, 'test'), class_name), img))\n",
        "    shutil.copy(os.path.join(base_dir, img), os.path.join(os.path.join(os.path.join(main_dir, 'test'), class_name), img))"
      ],
      "execution_count": 107,
      "outputs": []
    },
    {
      "cell_type": "markdown",
      "metadata": {
        "id": "uPRkx24mI1vx"
      },
      "source": [
        "#Data Source 1"
      ]
    },
    {
      "cell_type": "code",
      "metadata": {
        "colab": {
          "base_uri": "https://localhost:8080/"
        },
        "id": "Izrky2I2JOt9",
        "outputId": "17d39e99-e044-4aec-906b-e949ee085c9e"
      },
      "source": [
        "# clone Data\n",
        "!git clone https://github.com/agchung/Actualmed-COVID-chestxray-dataset.git"
      ],
      "execution_count": 4,
      "outputs": [
        {
          "output_type": "stream",
          "text": [
            "Cloning into 'Actualmed-COVID-chestxray-dataset'...\n",
            "remote: Enumerating objects: 10, done.\u001b[K\n",
            "remote: Counting objects: 100% (10/10), done.\u001b[K\n",
            "remote: Compressing objects: 100% (9/9), done.\u001b[K\n",
            "remote: Total 422 (delta 1), reused 6 (delta 1), pack-reused 412\u001b[K\n",
            "Receiving objects: 100% (422/422), 1.56 GiB | 19.52 MiB/s, done.\n",
            "Resolving deltas: 100% (16/16), done.\n",
            "Checking out files: 100% (240/240), done.\n"
          ],
          "name": "stdout"
        }
      ]
    },
    {
      "cell_type": "code",
      "metadata": {
        "colab": {
          "base_uri": "https://localhost:8080/",
          "height": 467
        },
        "id": "5v84pMvOJXGv",
        "outputId": "1457e5db-311e-49d9-802b-9cbc0afe853a"
      },
      "source": [
        "df = pd.read_csv('/content/Actualmed-COVID-chestxray-dataset/metadata.csv')\n",
        "df.head()"
      ],
      "execution_count": 108,
      "outputs": [
        {
          "output_type": "execute_result",
          "data": {
            "text/html": [
              "<div>\n",
              "<style scoped>\n",
              "    .dataframe tbody tr th:only-of-type {\n",
              "        vertical-align: middle;\n",
              "    }\n",
              "\n",
              "    .dataframe tbody tr th {\n",
              "        vertical-align: top;\n",
              "    }\n",
              "\n",
              "    .dataframe thead th {\n",
              "        text-align: right;\n",
              "    }\n",
              "</style>\n",
              "<table border=\"1\" class=\"dataframe\">\n",
              "  <thead>\n",
              "    <tr style=\"text-align: right;\">\n",
              "      <th></th>\n",
              "      <th>patientid</th>\n",
              "      <th>offset</th>\n",
              "      <th>sex</th>\n",
              "      <th>age</th>\n",
              "      <th>finding</th>\n",
              "      <th>survival</th>\n",
              "      <th>temperature</th>\n",
              "      <th>pO2 saturation</th>\n",
              "      <th>view</th>\n",
              "      <th>modality</th>\n",
              "      <th>imagename</th>\n",
              "      <th>artifacts/distortion</th>\n",
              "      <th>notes</th>\n",
              "    </tr>\n",
              "  </thead>\n",
              "  <tbody>\n",
              "    <tr>\n",
              "      <th>0</th>\n",
              "      <td>ANON196</td>\n",
              "      <td>NaN</td>\n",
              "      <td>NaN</td>\n",
              "      <td>NaN</td>\n",
              "      <td>NaN</td>\n",
              "      <td>NaN</td>\n",
              "      <td>NaN</td>\n",
              "      <td>NaN</td>\n",
              "      <td>PA</td>\n",
              "      <td>X-ray</td>\n",
              "      <td>CR.1.2.840.113564.1722810170.20200313090023421...</td>\n",
              "      <td>NaN</td>\n",
              "      <td>Inconclusive, date taken (YYYYMMDD): 20200313</td>\n",
              "    </tr>\n",
              "    <tr>\n",
              "      <th>1</th>\n",
              "      <td>ANON196</td>\n",
              "      <td>NaN</td>\n",
              "      <td>NaN</td>\n",
              "      <td>NaN</td>\n",
              "      <td>NaN</td>\n",
              "      <td>NaN</td>\n",
              "      <td>NaN</td>\n",
              "      <td>NaN</td>\n",
              "      <td>PA</td>\n",
              "      <td>X-ray</td>\n",
              "      <td>CR.1.2.840.113564.1722810170.20200313100318375...</td>\n",
              "      <td>NaN</td>\n",
              "      <td>Inconclusive, date taken (YYYYMMDD): 20200313</td>\n",
              "    </tr>\n",
              "    <tr>\n",
              "      <th>2</th>\n",
              "      <td>ANON56</td>\n",
              "      <td>NaN</td>\n",
              "      <td>NaN</td>\n",
              "      <td>NaN</td>\n",
              "      <td>No finding</td>\n",
              "      <td>NaN</td>\n",
              "      <td>NaN</td>\n",
              "      <td>NaN</td>\n",
              "      <td>PA</td>\n",
              "      <td>X-ray</td>\n",
              "      <td>CR.1.2.840.113564.1722810170.20200317090830828...</td>\n",
              "      <td>NaN</td>\n",
              "      <td>Negative (covid-19 viral infection is excluded...</td>\n",
              "    </tr>\n",
              "    <tr>\n",
              "      <th>3</th>\n",
              "      <td>ANON56</td>\n",
              "      <td>NaN</td>\n",
              "      <td>NaN</td>\n",
              "      <td>NaN</td>\n",
              "      <td>No finding</td>\n",
              "      <td>NaN</td>\n",
              "      <td>NaN</td>\n",
              "      <td>NaN</td>\n",
              "      <td>PA</td>\n",
              "      <td>X-ray</td>\n",
              "      <td>CR.1.2.840.113564.1722810170.20200317104341875...</td>\n",
              "      <td>NaN</td>\n",
              "      <td>Negative (covid-19 viral infection is excluded...</td>\n",
              "    </tr>\n",
              "    <tr>\n",
              "      <th>4</th>\n",
              "      <td>ANON196</td>\n",
              "      <td>NaN</td>\n",
              "      <td>NaN</td>\n",
              "      <td>NaN</td>\n",
              "      <td>COVID-19</td>\n",
              "      <td>NaN</td>\n",
              "      <td>NaN</td>\n",
              "      <td>NaN</td>\n",
              "      <td>PA</td>\n",
              "      <td>X-ray</td>\n",
              "      <td>CR.1.2.840.113564.1722810170.20200318082923328...</td>\n",
              "      <td>NaN</td>\n",
              "      <td>, date taken (YYYYMMDD): 20200318</td>\n",
              "    </tr>\n",
              "  </tbody>\n",
              "</table>\n",
              "</div>"
            ],
            "text/plain": [
              "  patientid  ...                                              notes\n",
              "0   ANON196  ...      Inconclusive, date taken (YYYYMMDD): 20200313\n",
              "1   ANON196  ...      Inconclusive, date taken (YYYYMMDD): 20200313\n",
              "2    ANON56  ...  Negative (covid-19 viral infection is excluded...\n",
              "3    ANON56  ...  Negative (covid-19 viral infection is excluded...\n",
              "4   ANON196  ...                  , date taken (YYYYMMDD): 20200318\n",
              "\n",
              "[5 rows x 13 columns]"
            ]
          },
          "metadata": {
            "tags": []
          },
          "execution_count": 108
        }
      ]
    },
    {
      "cell_type": "code",
      "metadata": {
        "colab": {
          "base_uri": "https://localhost:8080/"
        },
        "id": "RSA0Xi_SJccX",
        "outputId": "400ac5dc-98fb-43cb-8011-c14cd65193e1"
      },
      "source": [
        "df.info()"
      ],
      "execution_count": 109,
      "outputs": [
        {
          "output_type": "stream",
          "text": [
            "<class 'pandas.core.frame.DataFrame'>\n",
            "RangeIndex: 238 entries, 0 to 237\n",
            "Data columns (total 13 columns):\n",
            " #   Column                Non-Null Count  Dtype  \n",
            "---  ------                --------------  -----  \n",
            " 0   patientid             238 non-null    object \n",
            " 1   offset                0 non-null      float64\n",
            " 2   sex                   0 non-null      float64\n",
            " 3   age                   0 non-null      float64\n",
            " 4   finding               185 non-null    object \n",
            " 5   survival              0 non-null      float64\n",
            " 6   temperature           0 non-null      float64\n",
            " 7   pO2 saturation        0 non-null      float64\n",
            " 8   view                  238 non-null    object \n",
            " 9   modality              238 non-null    object \n",
            " 10  imagename             238 non-null    object \n",
            " 11  artifacts/distortion  0 non-null      float64\n",
            " 12  notes                 238 non-null    object \n",
            "dtypes: float64(7), object(6)\n",
            "memory usage: 24.3+ KB\n"
          ],
          "name": "stdout"
        }
      ]
    },
    {
      "cell_type": "code",
      "metadata": {
        "colab": {
          "base_uri": "https://localhost:8080/"
        },
        "id": "ER3VdzVLJdWR",
        "outputId": "5cb243e9-bd3b-42f4-f3d4-9e4cb9889954"
      },
      "source": [
        "df['finding'].unique()"
      ],
      "execution_count": 110,
      "outputs": [
        {
          "output_type": "execute_result",
          "data": {
            "text/plain": [
              "array([nan, 'No finding', 'COVID-19'], dtype=object)"
            ]
          },
          "metadata": {
            "tags": []
          },
          "execution_count": 110
        }
      ]
    },
    {
      "cell_type": "code",
      "metadata": {
        "colab": {
          "base_uri": "https://localhost:8080/"
        },
        "id": "KkVVGi13Jh4v",
        "outputId": "6f419f99-cb03-4cd2-ca45-8b749c30ba1e"
      },
      "source": [
        "img_src_dir = \"/content/Actualmed-COVID-chestxray-dataset/images\"\n",
        "\n",
        "covid_imgs = []\n",
        "normal_imgs = []\n",
        "\n",
        "for find, img in np.array(df[['finding', 'imagename']]):\n",
        "  if find=='COVID-19':\n",
        "    covid_imgs.append(img)\n",
        "  if find=='No finding':\n",
        "    normal_imgs.append(img)\n",
        "\n",
        "# copy images to covid and normal dir\n",
        "random_split(covid_imgs, img_src_dir, 'covid')\n",
        "random_split(normal_imgs, img_src_dir, 'normal')\n"
      ],
      "execution_count": 111,
      "outputs": [
        {
          "output_type": "stream",
          "text": [
            "Class: covid \n",
            "Train Imgs: 46 \n",
            "Val Imgs: 6 \n",
            "Test Imgs: 6\n",
            "\n",
            "Class: normal \n",
            "Train Imgs: 101 \n",
            "Val Imgs: 13 \n",
            "Test Imgs: 13\n",
            "\n"
          ],
          "name": "stdout"
        }
      ]
    },
    {
      "cell_type": "markdown",
      "metadata": {
        "id": "r7v_auX8pTLr"
      },
      "source": [
        "#Data Source 2"
      ]
    },
    {
      "cell_type": "code",
      "metadata": {
        "colab": {
          "base_uri": "https://localhost:8080/"
        },
        "id": "gFB0zdBsVjrC",
        "outputId": "f854cc84-0b4a-4553-c2b8-a17389fe7521"
      },
      "source": [
        "!git clone https://github.com/agchung/Figure1-COVID-chestxray-dataset.git"
      ],
      "execution_count": 9,
      "outputs": [
        {
          "output_type": "stream",
          "text": [
            "Cloning into 'Figure1-COVID-chestxray-dataset'...\n",
            "remote: Enumerating objects: 112, done.\u001b[K\n",
            "remote: Counting objects: 100% (112/112), done.\u001b[K\n",
            "remote: Compressing objects: 100% (97/97), done.\u001b[K\n",
            "remote: Total 112 (delta 28), reused 95 (delta 14), pack-reused 0\u001b[K\n",
            "Receiving objects: 100% (112/112), 14.13 MiB | 1.30 MiB/s, done.\n",
            "Resolving deltas: 100% (28/28), done.\n"
          ],
          "name": "stdout"
        }
      ]
    },
    {
      "cell_type": "code",
      "metadata": {
        "colab": {
          "base_uri": "https://localhost:8080/",
          "height": 297
        },
        "id": "3_wQS_XbVw3v",
        "outputId": "56bb4c78-070e-450c-fe2d-36272b2964b6"
      },
      "source": [
        "df = pd.read_csv('/content/Figure1-COVID-chestxray-dataset/metadata.csv', encoding='unicode_escape')\n",
        "df.head()"
      ],
      "execution_count": 112,
      "outputs": [
        {
          "output_type": "execute_result",
          "data": {
            "text/html": [
              "<div>\n",
              "<style scoped>\n",
              "    .dataframe tbody tr th:only-of-type {\n",
              "        vertical-align: middle;\n",
              "    }\n",
              "\n",
              "    .dataframe tbody tr th {\n",
              "        vertical-align: top;\n",
              "    }\n",
              "\n",
              "    .dataframe thead th {\n",
              "        text-align: right;\n",
              "    }\n",
              "</style>\n",
              "<table border=\"1\" class=\"dataframe\">\n",
              "  <thead>\n",
              "    <tr style=\"text-align: right;\">\n",
              "      <th></th>\n",
              "      <th>patientid</th>\n",
              "      <th>offset</th>\n",
              "      <th>sex</th>\n",
              "      <th>age</th>\n",
              "      <th>finding</th>\n",
              "      <th>survival</th>\n",
              "      <th>temperature</th>\n",
              "      <th>pO2 saturation</th>\n",
              "      <th>view</th>\n",
              "      <th>modality</th>\n",
              "      <th>artifacts/distortion</th>\n",
              "      <th>notes</th>\n",
              "    </tr>\n",
              "  </thead>\n",
              "  <tbody>\n",
              "    <tr>\n",
              "      <th>0</th>\n",
              "      <td>COVID-00001</td>\n",
              "      <td>13.0</td>\n",
              "      <td>M</td>\n",
              "      <td>33</td>\n",
              "      <td>COVID-19</td>\n",
              "      <td>NaN</td>\n",
              "      <td>NaN</td>\n",
              "      <td>58</td>\n",
              "      <td>AP erect</td>\n",
              "      <td>X-ray</td>\n",
              "      <td>NaN</td>\n",
              "      <td>O2 saturation was initially 58% on room air an...</td>\n",
              "    </tr>\n",
              "    <tr>\n",
              "      <th>1</th>\n",
              "      <td>COVID-00002</td>\n",
              "      <td>NaN</td>\n",
              "      <td>M</td>\n",
              "      <td>50+</td>\n",
              "      <td>NaN</td>\n",
              "      <td>NaN</td>\n",
              "      <td>NaN</td>\n",
              "      <td>NaN</td>\n",
              "      <td>AP erect</td>\n",
              "      <td>X-ray</td>\n",
              "      <td>NaN</td>\n",
              "      <td>50+ male patient, asthmatic, returning from a ...</td>\n",
              "    </tr>\n",
              "    <tr>\n",
              "      <th>2</th>\n",
              "      <td>COVID-00003a</td>\n",
              "      <td>8.0</td>\n",
              "      <td>M</td>\n",
              "      <td>28</td>\n",
              "      <td>NaN</td>\n",
              "      <td>NaN</td>\n",
              "      <td>39.1</td>\n",
              "      <td>90</td>\n",
              "      <td>AP erect</td>\n",
              "      <td>X-ray</td>\n",
              "      <td>NaN</td>\n",
              "      <td>28M previously fit and well, not on any regula...</td>\n",
              "    </tr>\n",
              "    <tr>\n",
              "      <th>3</th>\n",
              "      <td>COVID-00003b</td>\n",
              "      <td>8.0</td>\n",
              "      <td>M</td>\n",
              "      <td>28</td>\n",
              "      <td>NaN</td>\n",
              "      <td>NaN</td>\n",
              "      <td>39.1</td>\n",
              "      <td>90</td>\n",
              "      <td>AP erect</td>\n",
              "      <td>X-ray</td>\n",
              "      <td>NaN</td>\n",
              "      <td>Post-intubation in the critical care setting</td>\n",
              "    </tr>\n",
              "    <tr>\n",
              "      <th>4</th>\n",
              "      <td>COVID-00004</td>\n",
              "      <td>2.0</td>\n",
              "      <td>M</td>\n",
              "      <td>42</td>\n",
              "      <td>COVID-19</td>\n",
              "      <td>NaN</td>\n",
              "      <td>NaN</td>\n",
              "      <td>91-92</td>\n",
              "      <td>PA</td>\n",
              "      <td>X-ray</td>\n",
              "      <td>NaN</td>\n",
              "      <td>42 year old male patient presented to ED with ...</td>\n",
              "    </tr>\n",
              "  </tbody>\n",
              "</table>\n",
              "</div>"
            ],
            "text/plain": [
              "      patientid  ...                                              notes\n",
              "0   COVID-00001  ...  O2 saturation was initially 58% on room air an...\n",
              "1   COVID-00002  ...  50+ male patient, asthmatic, returning from a ...\n",
              "2  COVID-00003a  ...  28M previously fit and well, not on any regula...\n",
              "3  COVID-00003b  ...       Post-intubation in the critical care setting\n",
              "4   COVID-00004  ...  42 year old male patient presented to ED with ...\n",
              "\n",
              "[5 rows x 12 columns]"
            ]
          },
          "metadata": {
            "tags": []
          },
          "execution_count": 112
        }
      ]
    },
    {
      "cell_type": "code",
      "metadata": {
        "colab": {
          "base_uri": "https://localhost:8080/"
        },
        "id": "B3YphPXcbM6f",
        "outputId": "f2c71739-2a74-40ae-ef49-c988268bbd46"
      },
      "source": [
        "df.info()"
      ],
      "execution_count": 113,
      "outputs": [
        {
          "output_type": "stream",
          "text": [
            "<class 'pandas.core.frame.DataFrame'>\n",
            "RangeIndex: 55 entries, 0 to 54\n",
            "Data columns (total 12 columns):\n",
            " #   Column                Non-Null Count  Dtype  \n",
            "---  ------                --------------  -----  \n",
            " 0   patientid             55 non-null     object \n",
            " 1   offset                20 non-null     float64\n",
            " 2   sex                   22 non-null     object \n",
            " 3   age                   29 non-null     object \n",
            " 4   finding               40 non-null     object \n",
            " 5   survival              0 non-null      float64\n",
            " 6   temperature           4 non-null      object \n",
            " 7   pO2 saturation        12 non-null     object \n",
            " 8   view                  18 non-null     object \n",
            " 9   modality              55 non-null     object \n",
            " 10  artifacts/distortion  7 non-null      object \n",
            " 11  notes                 48 non-null     object \n",
            "dtypes: float64(2), object(10)\n",
            "memory usage: 5.3+ KB\n"
          ],
          "name": "stdout"
        }
      ]
    },
    {
      "cell_type": "code",
      "metadata": {
        "id": "EHaLnEVDrJlC"
      },
      "source": [
        "# add column of Image Names with file extension\n",
        "img_list = os.listdir(\"/content/Figure1-COVID-chestxray-dataset/images\")\n",
        "string = ''\n",
        "for i in img_list:\n",
        "  string+=i\n",
        "\n",
        "img_name = []\n",
        "for i in df['patientid']:\n",
        "  img_name.append(string[string.find(i):string.find(i)+len(i)+4])\n",
        "\n",
        "df['img_name'] = img_name  "
      ],
      "execution_count": 114,
      "outputs": []
    },
    {
      "cell_type": "code",
      "metadata": {
        "colab": {
          "base_uri": "https://localhost:8080/",
          "height": 381
        },
        "id": "it5US_drrJ4H",
        "outputId": "e279fa94-34d9-4866-aa94-e246a0b9b163"
      },
      "source": [
        "df.head()"
      ],
      "execution_count": 115,
      "outputs": [
        {
          "output_type": "execute_result",
          "data": {
            "text/html": [
              "<div>\n",
              "<style scoped>\n",
              "    .dataframe tbody tr th:only-of-type {\n",
              "        vertical-align: middle;\n",
              "    }\n",
              "\n",
              "    .dataframe tbody tr th {\n",
              "        vertical-align: top;\n",
              "    }\n",
              "\n",
              "    .dataframe thead th {\n",
              "        text-align: right;\n",
              "    }\n",
              "</style>\n",
              "<table border=\"1\" class=\"dataframe\">\n",
              "  <thead>\n",
              "    <tr style=\"text-align: right;\">\n",
              "      <th></th>\n",
              "      <th>patientid</th>\n",
              "      <th>offset</th>\n",
              "      <th>sex</th>\n",
              "      <th>age</th>\n",
              "      <th>finding</th>\n",
              "      <th>survival</th>\n",
              "      <th>temperature</th>\n",
              "      <th>pO2 saturation</th>\n",
              "      <th>view</th>\n",
              "      <th>modality</th>\n",
              "      <th>artifacts/distortion</th>\n",
              "      <th>notes</th>\n",
              "      <th>img_name</th>\n",
              "    </tr>\n",
              "  </thead>\n",
              "  <tbody>\n",
              "    <tr>\n",
              "      <th>0</th>\n",
              "      <td>COVID-00001</td>\n",
              "      <td>13.0</td>\n",
              "      <td>M</td>\n",
              "      <td>33</td>\n",
              "      <td>COVID-19</td>\n",
              "      <td>NaN</td>\n",
              "      <td>NaN</td>\n",
              "      <td>58</td>\n",
              "      <td>AP erect</td>\n",
              "      <td>X-ray</td>\n",
              "      <td>NaN</td>\n",
              "      <td>O2 saturation was initially 58% on room air an...</td>\n",
              "      <td>COVID-00001.jpg</td>\n",
              "    </tr>\n",
              "    <tr>\n",
              "      <th>1</th>\n",
              "      <td>COVID-00002</td>\n",
              "      <td>NaN</td>\n",
              "      <td>M</td>\n",
              "      <td>50+</td>\n",
              "      <td>NaN</td>\n",
              "      <td>NaN</td>\n",
              "      <td>NaN</td>\n",
              "      <td>NaN</td>\n",
              "      <td>AP erect</td>\n",
              "      <td>X-ray</td>\n",
              "      <td>NaN</td>\n",
              "      <td>50+ male patient, asthmatic, returning from a ...</td>\n",
              "      <td>COVID-00002.jpg</td>\n",
              "    </tr>\n",
              "    <tr>\n",
              "      <th>2</th>\n",
              "      <td>COVID-00003a</td>\n",
              "      <td>8.0</td>\n",
              "      <td>M</td>\n",
              "      <td>28</td>\n",
              "      <td>NaN</td>\n",
              "      <td>NaN</td>\n",
              "      <td>39.1</td>\n",
              "      <td>90</td>\n",
              "      <td>AP erect</td>\n",
              "      <td>X-ray</td>\n",
              "      <td>NaN</td>\n",
              "      <td>28M previously fit and well, not on any regula...</td>\n",
              "      <td>COVID-00003a.jpg</td>\n",
              "    </tr>\n",
              "    <tr>\n",
              "      <th>3</th>\n",
              "      <td>COVID-00003b</td>\n",
              "      <td>8.0</td>\n",
              "      <td>M</td>\n",
              "      <td>28</td>\n",
              "      <td>NaN</td>\n",
              "      <td>NaN</td>\n",
              "      <td>39.1</td>\n",
              "      <td>90</td>\n",
              "      <td>AP erect</td>\n",
              "      <td>X-ray</td>\n",
              "      <td>NaN</td>\n",
              "      <td>Post-intubation in the critical care setting</td>\n",
              "      <td>COVID-00003b.jpg</td>\n",
              "    </tr>\n",
              "    <tr>\n",
              "      <th>4</th>\n",
              "      <td>COVID-00004</td>\n",
              "      <td>2.0</td>\n",
              "      <td>M</td>\n",
              "      <td>42</td>\n",
              "      <td>COVID-19</td>\n",
              "      <td>NaN</td>\n",
              "      <td>NaN</td>\n",
              "      <td>91-92</td>\n",
              "      <td>PA</td>\n",
              "      <td>X-ray</td>\n",
              "      <td>NaN</td>\n",
              "      <td>42 year old male patient presented to ED with ...</td>\n",
              "      <td>COVID-00004.jpg</td>\n",
              "    </tr>\n",
              "  </tbody>\n",
              "</table>\n",
              "</div>"
            ],
            "text/plain": [
              "      patientid  ...          img_name\n",
              "0   COVID-00001  ...   COVID-00001.jpg\n",
              "1   COVID-00002  ...   COVID-00002.jpg\n",
              "2  COVID-00003a  ...  COVID-00003a.jpg\n",
              "3  COVID-00003b  ...  COVID-00003b.jpg\n",
              "4   COVID-00004  ...   COVID-00004.jpg\n",
              "\n",
              "[5 rows x 13 columns]"
            ]
          },
          "metadata": {
            "tags": []
          },
          "execution_count": 115
        }
      ]
    },
    {
      "cell_type": "code",
      "metadata": {
        "colab": {
          "base_uri": "https://localhost:8080/"
        },
        "id": "oBnh-5hgqJLb",
        "outputId": "73cf3d17-4666-4198-c0b7-81ba97157e5f"
      },
      "source": [
        "df['finding'].unique()"
      ],
      "execution_count": 116,
      "outputs": [
        {
          "output_type": "execute_result",
          "data": {
            "text/plain": [
              "array(['COVID-19', nan, 'No finding', 'Pneumonia'], dtype=object)"
            ]
          },
          "metadata": {
            "tags": []
          },
          "execution_count": 116
        }
      ]
    },
    {
      "cell_type": "code",
      "metadata": {
        "colab": {
          "base_uri": "https://localhost:8080/"
        },
        "id": "J9f2T3v5qXlh",
        "outputId": "7dec7551-683f-4a3a-c92b-d90251b154ae"
      },
      "source": [
        "img_src_dir = \"/content/Figure1-COVID-chestxray-dataset/images\"\n",
        "\n",
        "covid_imgs = []\n",
        "normal_imgs = []\n",
        "pneumonia_imgs = []\n",
        "\n",
        "for find, img in np.array(df[['finding', 'img_name']]):\n",
        "  if find=='COVID-19':\n",
        "    covid_imgs.append(img)\n",
        "  if find=='No finding':\n",
        "    normal_imgs.append(img)\n",
        "  if find=='Pneumonia':\n",
        "    pneumonia_imgs.append(img)\n",
        "\n",
        "# copy images to covid and normal dir\n",
        "random_split(covid_imgs, img_src_dir, 'covid')\n",
        "random_split(normal_imgs, img_src_dir, 'normal')\n",
        "random_split(pneumonia_imgs, img_src_dir, 'pneumonia')\n"
      ],
      "execution_count": 117,
      "outputs": [
        {
          "output_type": "stream",
          "text": [
            "Class: covid \n",
            "Train Imgs: 28 \n",
            "Val Imgs: 4 \n",
            "Test Imgs: 3\n",
            "\n",
            "Class: normal \n",
            "Train Imgs: 2 \n",
            "Val Imgs: 1 \n",
            "Test Imgs: 0\n",
            "\n",
            "Class: pneumonia \n",
            "Train Imgs: 1 \n",
            "Val Imgs: 1 \n",
            "Test Imgs: 0\n",
            "\n"
          ],
          "name": "stdout"
        }
      ]
    },
    {
      "cell_type": "code",
      "metadata": {
        "colab": {
          "base_uri": "https://localhost:8080/"
        },
        "id": "82VyF0M93X2t",
        "outputId": "6435fc6e-c7c3-44ed-9a9b-3ec19c907bca"
      },
      "source": [
        "print('Covid', len(os.listdir('/content/data/train/covid'))+len(os.listdir('/content/data/test/covid'))+len(os.listdir('/content/data/val/covid')))\n",
        "print('Normal', len(os.listdir('/content/data/train/normal'))+len(os.listdir('/content/data/test/normal'))+len(os.listdir('/content/data/val/normal')))\n",
        "print('Pneumonoia', len(os.listdir('/content/data/train/pneumonia'))+len(os.listdir('/content/data/test/pneumonia'))+len(os.listdir('/content/data/val/pneumonia')))\n"
      ],
      "execution_count": 118,
      "outputs": [
        {
          "output_type": "stream",
          "text": [
            "Covid 93\n",
            "Normal 130\n",
            "Pneumonoia 2\n"
          ],
          "name": "stdout"
        }
      ]
    },
    {
      "cell_type": "markdown",
      "metadata": {
        "id": "63s8vUCuD2Gs"
      },
      "source": [
        "#Exporting Data"
      ]
    },
    {
      "cell_type": "code",
      "metadata": {
        "colab": {
          "base_uri": "https://localhost:8080/"
        },
        "id": "CbQfavXzEqIZ",
        "outputId": "8c2b6a89-6f4c-43df-9fc8-40350dcab275"
      },
      "source": [
        "from google.colab import drive\n",
        "drive.mount('/content/drive')"
      ],
      "execution_count": 62,
      "outputs": [
        {
          "output_type": "stream",
          "text": [
            "Mounted at /content/drive\n"
          ],
          "name": "stdout"
        }
      ]
    },
    {
      "cell_type": "code",
      "metadata": {
        "colab": {
          "base_uri": "https://localhost:8080/",
          "height": 35
        },
        "id": "Bp66Zhhc6YwF",
        "outputId": "d4d5b93a-9266-45da-b10a-a2d4fc770d75"
      },
      "source": [
        "shutil.copytree('/content/data', '/content/drive/MyDrive/AI Colab/Final Covid Diagnosis/data', copy_function = shutil.copy)"
      ],
      "execution_count": 63,
      "outputs": [
        {
          "output_type": "execute_result",
          "data": {
            "application/vnd.google.colaboratory.intrinsic+json": {
              "type": "string"
            },
            "text/plain": [
              "'/content/drive/MyDrive/AI Colab/Final Covid Diagnosis/data'"
            ]
          },
          "metadata": {
            "tags": []
          },
          "execution_count": 63
        }
      ]
    }
  ]
}