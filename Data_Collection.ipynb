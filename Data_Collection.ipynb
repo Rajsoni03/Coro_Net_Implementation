{
  "nbformat": 4,
  "nbformat_minor": 0,
  "metadata": {
    "colab": {
      "name": "Data Collection.ipynb",
      "provenance": [],
      "collapsed_sections": [
        "nFxsqiamI6o5",
        "owGUuHTcJkiQ",
        "uPRkx24mI1vx",
        "r7v_auX8pTLr",
        "R2WfYgjRL2hy",
        "63s8vUCuD2Gs"
      ],
      "machine_shape": "hm",
      "include_colab_link": true
    },
    "kernelspec": {
      "name": "python3",
      "display_name": "Python 3"
    },
    "accelerator": "GPU"
  },
  "cells": [
    {
      "cell_type": "markdown",
      "metadata": {
        "id": "view-in-github",
        "colab_type": "text"
      },
      "source": [
        "<a href=\"https://colab.research.google.com/github/Rajsoni03/Covid-X-ray-Dataset/blob/main/Data_Collection.ipynb\" target=\"_parent\"><img src=\"https://colab.research.google.com/assets/colab-badge.svg\" alt=\"Open In Colab\"/></a>"
      ]
    },
    {
      "cell_type": "markdown",
      "metadata": {
        "id": "nFxsqiamI6o5"
      },
      "source": [
        "#importing Libraries"
      ]
    },
    {
      "cell_type": "code",
      "metadata": {
        "id": "86v5AXeTIzt8"
      },
      "source": [
        "from tensorflow.keras.preprocessing.image import ImageDataGenerator\n",
        "from tensorflow.keras.utils import to_categorical\n",
        "from sklearn.model_selection import train_test_split\n",
        "from sklearn.preprocessing import LabelBinarizer\n",
        "from imutils import paths\n",
        "\n",
        "import matplotlib.pyplot as plt\n",
        "import pandas as pd\n",
        "import numpy as np\n",
        "import shutil\n",
        "import cv2\n",
        "import os"
      ],
      "execution_count": 1,
      "outputs": []
    },
    {
      "cell_type": "markdown",
      "metadata": {
        "id": "owGUuHTcJkiQ"
      },
      "source": [
        "#Create Dirs"
      ]
    },
    {
      "cell_type": "code",
      "metadata": {
        "id": "01HFnuzbJjwv"
      },
      "source": [
        "os.mkdir('/content/data')\n",
        "os.mkdir('/content/data/train')\n",
        "os.mkdir('/content/data/val')\n",
        "os.mkdir('/content/data/test')\n",
        "\n",
        "\n",
        "os.mkdir('/content/data/train/covid')\n",
        "os.mkdir('/content/data/train/normal')\n",
        "os.mkdir('/content/data/train/pneumonia')\n",
        "\n",
        "os.mkdir('/content/data/val/covid')\n",
        "os.mkdir('/content/data/val/normal')\n",
        "os.mkdir('/content/data/val/pneumonia')\n",
        "\n",
        "os.mkdir('/content/data/test/covid')\n",
        "os.mkdir('/content/data/test/normal')\n",
        "os.mkdir('/content/data/test/pneumonia')\n"
      ],
      "execution_count": 2,
      "outputs": []
    },
    {
      "cell_type": "code",
      "metadata": {
        "id": "X2UGJF5pTykO"
      },
      "source": [
        "main_dir = \"/content/data\"\n",
        "\n",
        "def random_split(images, base_dir, class_name):\n",
        "  length = len(images)\n",
        "  images = images\n",
        "  np.random.shuffle(images)\n",
        "  \n",
        "  no_of_train_end  = int(length * 0.8)\n",
        "  no_of_val_end  = int(length * 0.9)\n",
        "\n",
        "  print('Class:', class_name,'\\nTrain Imgs:', no_of_train_end,'\\nVal Imgs:',length-no_of_val_end,'\\nTest Imgs:',  no_of_val_end-no_of_train_end, end='\\n\\n')\n",
        "\n",
        "  for img in images[:no_of_train_end]:\n",
        "    # print(os.path.join(base_dir, img), os.path.join(os.path.join(os.path.join(main_dir, 'train'), class_name), img))\n",
        "    shutil.copy(os.path.join(base_dir, img), os.path.join(os.path.join(os.path.join(main_dir, 'train'), class_name), img))\n",
        "  for img in images[no_of_val_end:]:\n",
        "    # print(os.path.join(base_dir, img), os.path.join(os.path.join(os.path.join(main_dir, 'val'), class_name), img))\n",
        "    shutil.copy(os.path.join(base_dir, img), os.path.join(os.path.join(os.path.join(main_dir,  'val'), class_name), img))\n",
        "  for img in images[no_of_train_end: no_of_val_end]:\n",
        "    # print(os.path.join(base_dir, img), os.path.join(os.path.join(os.path.join(main_dir, 'test'), class_name), img))\n",
        "    shutil.copy(os.path.join(base_dir, img), os.path.join(os.path.join(os.path.join(main_dir, 'test'), class_name), img))"
      ],
      "execution_count": 3,
      "outputs": []
    },
    {
      "cell_type": "markdown",
      "metadata": {
        "id": "uPRkx24mI1vx"
      },
      "source": [
        "#Data Source 1"
      ]
    },
    {
      "cell_type": "code",
      "metadata": {
        "colab": {
          "base_uri": "https://localhost:8080/"
        },
        "id": "Izrky2I2JOt9",
        "outputId": "ffe04e5c-eb01-4c4f-e54b-b0c2f20f8342"
      },
      "source": [
        "# clone Data\n",
        "!git clone https://github.com/agchung/Actualmed-COVID-chestxray-dataset.git"
      ],
      "execution_count": 4,
      "outputs": [
        {
          "output_type": "stream",
          "text": [
            "Cloning into 'Actualmed-COVID-chestxray-dataset'...\n",
            "remote: Enumerating objects: 10, done.\u001b[K\n",
            "remote: Counting objects: 100% (10/10), done.\u001b[K\n",
            "remote: Compressing objects: 100% (9/9), done.\u001b[K\n",
            "remote: Total 422 (delta 1), reused 6 (delta 1), pack-reused 412\u001b[K\n",
            "Receiving objects: 100% (422/422), 1.56 GiB | 36.59 MiB/s, done.\n",
            "Resolving deltas: 100% (16/16), done.\n",
            "Checking out files: 100% (240/240), done.\n"
          ],
          "name": "stdout"
        }
      ]
    },
    {
      "cell_type": "code",
      "metadata": {
        "colab": {
          "base_uri": "https://localhost:8080/",
          "height": 467
        },
        "id": "5v84pMvOJXGv",
        "outputId": "b3755679-526d-4c90-a3be-53dfed62e991"
      },
      "source": [
        "df = pd.read_csv('/content/Actualmed-COVID-chestxray-dataset/metadata.csv')\n",
        "df.head()"
      ],
      "execution_count": 5,
      "outputs": [
        {
          "output_type": "execute_result",
          "data": {
            "text/html": [
              "<div>\n",
              "<style scoped>\n",
              "    .dataframe tbody tr th:only-of-type {\n",
              "        vertical-align: middle;\n",
              "    }\n",
              "\n",
              "    .dataframe tbody tr th {\n",
              "        vertical-align: top;\n",
              "    }\n",
              "\n",
              "    .dataframe thead th {\n",
              "        text-align: right;\n",
              "    }\n",
              "</style>\n",
              "<table border=\"1\" class=\"dataframe\">\n",
              "  <thead>\n",
              "    <tr style=\"text-align: right;\">\n",
              "      <th></th>\n",
              "      <th>patientid</th>\n",
              "      <th>offset</th>\n",
              "      <th>sex</th>\n",
              "      <th>age</th>\n",
              "      <th>finding</th>\n",
              "      <th>survival</th>\n",
              "      <th>temperature</th>\n",
              "      <th>pO2 saturation</th>\n",
              "      <th>view</th>\n",
              "      <th>modality</th>\n",
              "      <th>imagename</th>\n",
              "      <th>artifacts/distortion</th>\n",
              "      <th>notes</th>\n",
              "    </tr>\n",
              "  </thead>\n",
              "  <tbody>\n",
              "    <tr>\n",
              "      <th>0</th>\n",
              "      <td>ANON196</td>\n",
              "      <td>NaN</td>\n",
              "      <td>NaN</td>\n",
              "      <td>NaN</td>\n",
              "      <td>NaN</td>\n",
              "      <td>NaN</td>\n",
              "      <td>NaN</td>\n",
              "      <td>NaN</td>\n",
              "      <td>PA</td>\n",
              "      <td>X-ray</td>\n",
              "      <td>CR.1.2.840.113564.1722810170.20200313090023421...</td>\n",
              "      <td>NaN</td>\n",
              "      <td>Inconclusive, date taken (YYYYMMDD): 20200313</td>\n",
              "    </tr>\n",
              "    <tr>\n",
              "      <th>1</th>\n",
              "      <td>ANON196</td>\n",
              "      <td>NaN</td>\n",
              "      <td>NaN</td>\n",
              "      <td>NaN</td>\n",
              "      <td>NaN</td>\n",
              "      <td>NaN</td>\n",
              "      <td>NaN</td>\n",
              "      <td>NaN</td>\n",
              "      <td>PA</td>\n",
              "      <td>X-ray</td>\n",
              "      <td>CR.1.2.840.113564.1722810170.20200313100318375...</td>\n",
              "      <td>NaN</td>\n",
              "      <td>Inconclusive, date taken (YYYYMMDD): 20200313</td>\n",
              "    </tr>\n",
              "    <tr>\n",
              "      <th>2</th>\n",
              "      <td>ANON56</td>\n",
              "      <td>NaN</td>\n",
              "      <td>NaN</td>\n",
              "      <td>NaN</td>\n",
              "      <td>No finding</td>\n",
              "      <td>NaN</td>\n",
              "      <td>NaN</td>\n",
              "      <td>NaN</td>\n",
              "      <td>PA</td>\n",
              "      <td>X-ray</td>\n",
              "      <td>CR.1.2.840.113564.1722810170.20200317090830828...</td>\n",
              "      <td>NaN</td>\n",
              "      <td>Negative (covid-19 viral infection is excluded...</td>\n",
              "    </tr>\n",
              "    <tr>\n",
              "      <th>3</th>\n",
              "      <td>ANON56</td>\n",
              "      <td>NaN</td>\n",
              "      <td>NaN</td>\n",
              "      <td>NaN</td>\n",
              "      <td>No finding</td>\n",
              "      <td>NaN</td>\n",
              "      <td>NaN</td>\n",
              "      <td>NaN</td>\n",
              "      <td>PA</td>\n",
              "      <td>X-ray</td>\n",
              "      <td>CR.1.2.840.113564.1722810170.20200317104341875...</td>\n",
              "      <td>NaN</td>\n",
              "      <td>Negative (covid-19 viral infection is excluded...</td>\n",
              "    </tr>\n",
              "    <tr>\n",
              "      <th>4</th>\n",
              "      <td>ANON196</td>\n",
              "      <td>NaN</td>\n",
              "      <td>NaN</td>\n",
              "      <td>NaN</td>\n",
              "      <td>COVID-19</td>\n",
              "      <td>NaN</td>\n",
              "      <td>NaN</td>\n",
              "      <td>NaN</td>\n",
              "      <td>PA</td>\n",
              "      <td>X-ray</td>\n",
              "      <td>CR.1.2.840.113564.1722810170.20200318082923328...</td>\n",
              "      <td>NaN</td>\n",
              "      <td>, date taken (YYYYMMDD): 20200318</td>\n",
              "    </tr>\n",
              "  </tbody>\n",
              "</table>\n",
              "</div>"
            ],
            "text/plain": [
              "  patientid  ...                                              notes\n",
              "0   ANON196  ...      Inconclusive, date taken (YYYYMMDD): 20200313\n",
              "1   ANON196  ...      Inconclusive, date taken (YYYYMMDD): 20200313\n",
              "2    ANON56  ...  Negative (covid-19 viral infection is excluded...\n",
              "3    ANON56  ...  Negative (covid-19 viral infection is excluded...\n",
              "4   ANON196  ...                  , date taken (YYYYMMDD): 20200318\n",
              "\n",
              "[5 rows x 13 columns]"
            ]
          },
          "metadata": {
            "tags": []
          },
          "execution_count": 5
        }
      ]
    },
    {
      "cell_type": "code",
      "metadata": {
        "colab": {
          "base_uri": "https://localhost:8080/"
        },
        "id": "RSA0Xi_SJccX",
        "outputId": "9bc464a6-4f14-424d-d476-2b62299a0531"
      },
      "source": [
        "df.info()"
      ],
      "execution_count": 6,
      "outputs": [
        {
          "output_type": "stream",
          "text": [
            "<class 'pandas.core.frame.DataFrame'>\n",
            "RangeIndex: 238 entries, 0 to 237\n",
            "Data columns (total 13 columns):\n",
            " #   Column                Non-Null Count  Dtype  \n",
            "---  ------                --------------  -----  \n",
            " 0   patientid             238 non-null    object \n",
            " 1   offset                0 non-null      float64\n",
            " 2   sex                   0 non-null      float64\n",
            " 3   age                   0 non-null      float64\n",
            " 4   finding               185 non-null    object \n",
            " 5   survival              0 non-null      float64\n",
            " 6   temperature           0 non-null      float64\n",
            " 7   pO2 saturation        0 non-null      float64\n",
            " 8   view                  238 non-null    object \n",
            " 9   modality              238 non-null    object \n",
            " 10  imagename             238 non-null    object \n",
            " 11  artifacts/distortion  0 non-null      float64\n",
            " 12  notes                 238 non-null    object \n",
            "dtypes: float64(7), object(6)\n",
            "memory usage: 24.3+ KB\n"
          ],
          "name": "stdout"
        }
      ]
    },
    {
      "cell_type": "code",
      "metadata": {
        "colab": {
          "base_uri": "https://localhost:8080/"
        },
        "id": "ER3VdzVLJdWR",
        "outputId": "65f6d7d0-d1ac-4502-e30e-c1ed519cbbb3"
      },
      "source": [
        "df['finding'].unique()"
      ],
      "execution_count": 7,
      "outputs": [
        {
          "output_type": "execute_result",
          "data": {
            "text/plain": [
              "array([nan, 'No finding', 'COVID-19'], dtype=object)"
            ]
          },
          "metadata": {
            "tags": []
          },
          "execution_count": 7
        }
      ]
    },
    {
      "cell_type": "code",
      "metadata": {
        "colab": {
          "base_uri": "https://localhost:8080/"
        },
        "id": "KkVVGi13Jh4v",
        "outputId": "3f4069d7-7c89-402d-c381-e714423f50b2"
      },
      "source": [
        "img_src_dir = \"/content/Actualmed-COVID-chestxray-dataset/images\"\n",
        "\n",
        "covid_imgs = []\n",
        "normal_imgs = []\n",
        "\n",
        "for find, img in np.array(df[['finding', 'imagename']]):\n",
        "  if find=='COVID-19':\n",
        "    covid_imgs.append(img)\n",
        "  if find=='No finding':\n",
        "    normal_imgs.append(img)\n",
        "\n",
        "# copy images to covid and normal dir\n",
        "random_split(covid_imgs, img_src_dir, 'covid')\n",
        "random_split(normal_imgs, img_src_dir, 'normal')\n"
      ],
      "execution_count": 8,
      "outputs": [
        {
          "output_type": "stream",
          "text": [
            "Class: covid \n",
            "Train Imgs: 46 \n",
            "Val Imgs: 6 \n",
            "Test Imgs: 6\n",
            "\n",
            "Class: normal \n",
            "Train Imgs: 101 \n",
            "Val Imgs: 13 \n",
            "Test Imgs: 13\n",
            "\n"
          ],
          "name": "stdout"
        }
      ]
    },
    {
      "cell_type": "code",
      "metadata": {
        "id": "6qM-KyPBhDTT"
      },
      "source": [
        "print('Covid', len(os.listdir('/content/data/train/covid'))+len(os.listdir('/content/data/test/covid'))+len(os.listdir('/content/data/val/covid')))\n",
        "print('Normal', len(os.listdir('/content/data/train/normal'))+len(os.listdir('/content/data/test/normal'))+len(os.listdir('/content/data/val/normal')))\n",
        "print('Pneumonoia', len(os.listdir('/content/data/train/pneumonia'))+len(os.listdir('/content/data/test/pneumonia'))+len(os.listdir('/content/data/val/pneumonia')))"
      ],
      "execution_count": null,
      "outputs": []
    },
    {
      "cell_type": "markdown",
      "metadata": {
        "id": "r7v_auX8pTLr"
      },
      "source": [
        "#Data Source 2"
      ]
    },
    {
      "cell_type": "code",
      "metadata": {
        "colab": {
          "base_uri": "https://localhost:8080/"
        },
        "id": "gFB0zdBsVjrC",
        "outputId": "36f83422-cd4a-49b2-c177-035f245b0359"
      },
      "source": [
        "!git clone https://github.com/agchung/Figure1-COVID-chestxray-dataset.git"
      ],
      "execution_count": 9,
      "outputs": [
        {
          "output_type": "stream",
          "text": [
            "Cloning into 'Figure1-COVID-chestxray-dataset'...\n",
            "remote: Enumerating objects: 112, done.\u001b[K\n",
            "remote: Counting objects: 100% (112/112), done.\u001b[K\n",
            "remote: Compressing objects: 100% (97/97), done.\u001b[K\n",
            "remote: Total 112 (delta 28), reused 95 (delta 14), pack-reused 0\u001b[K\n",
            "Receiving objects: 100% (112/112), 14.13 MiB | 35.37 MiB/s, done.\n",
            "Resolving deltas: 100% (28/28), done.\n"
          ],
          "name": "stdout"
        }
      ]
    },
    {
      "cell_type": "code",
      "metadata": {
        "colab": {
          "base_uri": "https://localhost:8080/",
          "height": 297
        },
        "id": "3_wQS_XbVw3v",
        "outputId": "64b46f0c-43cc-4840-93e3-54b020c8db40"
      },
      "source": [
        "df = pd.read_csv('/content/Figure1-COVID-chestxray-dataset/metadata.csv', encoding='unicode_escape')\n",
        "df.head()"
      ],
      "execution_count": 10,
      "outputs": [
        {
          "output_type": "execute_result",
          "data": {
            "text/html": [
              "<div>\n",
              "<style scoped>\n",
              "    .dataframe tbody tr th:only-of-type {\n",
              "        vertical-align: middle;\n",
              "    }\n",
              "\n",
              "    .dataframe tbody tr th {\n",
              "        vertical-align: top;\n",
              "    }\n",
              "\n",
              "    .dataframe thead th {\n",
              "        text-align: right;\n",
              "    }\n",
              "</style>\n",
              "<table border=\"1\" class=\"dataframe\">\n",
              "  <thead>\n",
              "    <tr style=\"text-align: right;\">\n",
              "      <th></th>\n",
              "      <th>patientid</th>\n",
              "      <th>offset</th>\n",
              "      <th>sex</th>\n",
              "      <th>age</th>\n",
              "      <th>finding</th>\n",
              "      <th>survival</th>\n",
              "      <th>temperature</th>\n",
              "      <th>pO2 saturation</th>\n",
              "      <th>view</th>\n",
              "      <th>modality</th>\n",
              "      <th>artifacts/distortion</th>\n",
              "      <th>notes</th>\n",
              "    </tr>\n",
              "  </thead>\n",
              "  <tbody>\n",
              "    <tr>\n",
              "      <th>0</th>\n",
              "      <td>COVID-00001</td>\n",
              "      <td>13.0</td>\n",
              "      <td>M</td>\n",
              "      <td>33</td>\n",
              "      <td>COVID-19</td>\n",
              "      <td>NaN</td>\n",
              "      <td>NaN</td>\n",
              "      <td>58</td>\n",
              "      <td>AP erect</td>\n",
              "      <td>X-ray</td>\n",
              "      <td>NaN</td>\n",
              "      <td>O2 saturation was initially 58% on room air an...</td>\n",
              "    </tr>\n",
              "    <tr>\n",
              "      <th>1</th>\n",
              "      <td>COVID-00002</td>\n",
              "      <td>NaN</td>\n",
              "      <td>M</td>\n",
              "      <td>50+</td>\n",
              "      <td>NaN</td>\n",
              "      <td>NaN</td>\n",
              "      <td>NaN</td>\n",
              "      <td>NaN</td>\n",
              "      <td>AP erect</td>\n",
              "      <td>X-ray</td>\n",
              "      <td>NaN</td>\n",
              "      <td>50+ male patient, asthmatic, returning from a ...</td>\n",
              "    </tr>\n",
              "    <tr>\n",
              "      <th>2</th>\n",
              "      <td>COVID-00003a</td>\n",
              "      <td>8.0</td>\n",
              "      <td>M</td>\n",
              "      <td>28</td>\n",
              "      <td>NaN</td>\n",
              "      <td>NaN</td>\n",
              "      <td>39.1</td>\n",
              "      <td>90</td>\n",
              "      <td>AP erect</td>\n",
              "      <td>X-ray</td>\n",
              "      <td>NaN</td>\n",
              "      <td>28M previously fit and well, not on any regula...</td>\n",
              "    </tr>\n",
              "    <tr>\n",
              "      <th>3</th>\n",
              "      <td>COVID-00003b</td>\n",
              "      <td>8.0</td>\n",
              "      <td>M</td>\n",
              "      <td>28</td>\n",
              "      <td>NaN</td>\n",
              "      <td>NaN</td>\n",
              "      <td>39.1</td>\n",
              "      <td>90</td>\n",
              "      <td>AP erect</td>\n",
              "      <td>X-ray</td>\n",
              "      <td>NaN</td>\n",
              "      <td>Post-intubation in the critical care setting</td>\n",
              "    </tr>\n",
              "    <tr>\n",
              "      <th>4</th>\n",
              "      <td>COVID-00004</td>\n",
              "      <td>2.0</td>\n",
              "      <td>M</td>\n",
              "      <td>42</td>\n",
              "      <td>COVID-19</td>\n",
              "      <td>NaN</td>\n",
              "      <td>NaN</td>\n",
              "      <td>91-92</td>\n",
              "      <td>PA</td>\n",
              "      <td>X-ray</td>\n",
              "      <td>NaN</td>\n",
              "      <td>42 year old male patient presented to ED with ...</td>\n",
              "    </tr>\n",
              "  </tbody>\n",
              "</table>\n",
              "</div>"
            ],
            "text/plain": [
              "      patientid  ...                                              notes\n",
              "0   COVID-00001  ...  O2 saturation was initially 58% on room air an...\n",
              "1   COVID-00002  ...  50+ male patient, asthmatic, returning from a ...\n",
              "2  COVID-00003a  ...  28M previously fit and well, not on any regula...\n",
              "3  COVID-00003b  ...       Post-intubation in the critical care setting\n",
              "4   COVID-00004  ...  42 year old male patient presented to ED with ...\n",
              "\n",
              "[5 rows x 12 columns]"
            ]
          },
          "metadata": {
            "tags": []
          },
          "execution_count": 10
        }
      ]
    },
    {
      "cell_type": "code",
      "metadata": {
        "colab": {
          "base_uri": "https://localhost:8080/"
        },
        "id": "B3YphPXcbM6f",
        "outputId": "9520fd53-3e4d-4f4a-b7d8-82325fdaf1c5"
      },
      "source": [
        "df.info()"
      ],
      "execution_count": 11,
      "outputs": [
        {
          "output_type": "stream",
          "text": [
            "<class 'pandas.core.frame.DataFrame'>\n",
            "RangeIndex: 55 entries, 0 to 54\n",
            "Data columns (total 12 columns):\n",
            " #   Column                Non-Null Count  Dtype  \n",
            "---  ------                --------------  -----  \n",
            " 0   patientid             55 non-null     object \n",
            " 1   offset                20 non-null     float64\n",
            " 2   sex                   22 non-null     object \n",
            " 3   age                   29 non-null     object \n",
            " 4   finding               40 non-null     object \n",
            " 5   survival              0 non-null      float64\n",
            " 6   temperature           4 non-null      object \n",
            " 7   pO2 saturation        12 non-null     object \n",
            " 8   view                  18 non-null     object \n",
            " 9   modality              55 non-null     object \n",
            " 10  artifacts/distortion  7 non-null      object \n",
            " 11  notes                 48 non-null     object \n",
            "dtypes: float64(2), object(10)\n",
            "memory usage: 5.3+ KB\n"
          ],
          "name": "stdout"
        }
      ]
    },
    {
      "cell_type": "code",
      "metadata": {
        "id": "EHaLnEVDrJlC"
      },
      "source": [
        "# add column of Image Names with file extension\n",
        "img_list = os.listdir(\"/content/Figure1-COVID-chestxray-dataset/images\")\n",
        "string = ''\n",
        "for i in img_list:\n",
        "  string+=i\n",
        "\n",
        "img_name = []\n",
        "for i in df['patientid']:\n",
        "  img_name.append(string[string.find(i):string.find(i)+len(i)+4])\n",
        "\n",
        "df['img_name'] = img_name  "
      ],
      "execution_count": 12,
      "outputs": []
    },
    {
      "cell_type": "code",
      "metadata": {
        "colab": {
          "base_uri": "https://localhost:8080/",
          "height": 297
        },
        "id": "it5US_drrJ4H",
        "outputId": "2ed7fd7b-24e2-41f2-e18c-6dce635fd772"
      },
      "source": [
        "df.head()"
      ],
      "execution_count": 13,
      "outputs": [
        {
          "output_type": "execute_result",
          "data": {
            "text/html": [
              "<div>\n",
              "<style scoped>\n",
              "    .dataframe tbody tr th:only-of-type {\n",
              "        vertical-align: middle;\n",
              "    }\n",
              "\n",
              "    .dataframe tbody tr th {\n",
              "        vertical-align: top;\n",
              "    }\n",
              "\n",
              "    .dataframe thead th {\n",
              "        text-align: right;\n",
              "    }\n",
              "</style>\n",
              "<table border=\"1\" class=\"dataframe\">\n",
              "  <thead>\n",
              "    <tr style=\"text-align: right;\">\n",
              "      <th></th>\n",
              "      <th>patientid</th>\n",
              "      <th>offset</th>\n",
              "      <th>sex</th>\n",
              "      <th>age</th>\n",
              "      <th>finding</th>\n",
              "      <th>survival</th>\n",
              "      <th>temperature</th>\n",
              "      <th>pO2 saturation</th>\n",
              "      <th>view</th>\n",
              "      <th>modality</th>\n",
              "      <th>artifacts/distortion</th>\n",
              "      <th>notes</th>\n",
              "      <th>img_name</th>\n",
              "    </tr>\n",
              "  </thead>\n",
              "  <tbody>\n",
              "    <tr>\n",
              "      <th>0</th>\n",
              "      <td>COVID-00001</td>\n",
              "      <td>13.0</td>\n",
              "      <td>M</td>\n",
              "      <td>33</td>\n",
              "      <td>COVID-19</td>\n",
              "      <td>NaN</td>\n",
              "      <td>NaN</td>\n",
              "      <td>58</td>\n",
              "      <td>AP erect</td>\n",
              "      <td>X-ray</td>\n",
              "      <td>NaN</td>\n",
              "      <td>O2 saturation was initially 58% on room air an...</td>\n",
              "      <td>COVID-00001.jpg</td>\n",
              "    </tr>\n",
              "    <tr>\n",
              "      <th>1</th>\n",
              "      <td>COVID-00002</td>\n",
              "      <td>NaN</td>\n",
              "      <td>M</td>\n",
              "      <td>50+</td>\n",
              "      <td>NaN</td>\n",
              "      <td>NaN</td>\n",
              "      <td>NaN</td>\n",
              "      <td>NaN</td>\n",
              "      <td>AP erect</td>\n",
              "      <td>X-ray</td>\n",
              "      <td>NaN</td>\n",
              "      <td>50+ male patient, asthmatic, returning from a ...</td>\n",
              "      <td>COVID-00002.jpg</td>\n",
              "    </tr>\n",
              "    <tr>\n",
              "      <th>2</th>\n",
              "      <td>COVID-00003a</td>\n",
              "      <td>8.0</td>\n",
              "      <td>M</td>\n",
              "      <td>28</td>\n",
              "      <td>NaN</td>\n",
              "      <td>NaN</td>\n",
              "      <td>39.1</td>\n",
              "      <td>90</td>\n",
              "      <td>AP erect</td>\n",
              "      <td>X-ray</td>\n",
              "      <td>NaN</td>\n",
              "      <td>28M previously fit and well, not on any regula...</td>\n",
              "      <td>COVID-00003a.jpg</td>\n",
              "    </tr>\n",
              "    <tr>\n",
              "      <th>3</th>\n",
              "      <td>COVID-00003b</td>\n",
              "      <td>8.0</td>\n",
              "      <td>M</td>\n",
              "      <td>28</td>\n",
              "      <td>NaN</td>\n",
              "      <td>NaN</td>\n",
              "      <td>39.1</td>\n",
              "      <td>90</td>\n",
              "      <td>AP erect</td>\n",
              "      <td>X-ray</td>\n",
              "      <td>NaN</td>\n",
              "      <td>Post-intubation in the critical care setting</td>\n",
              "      <td>COVID-00003b.jpg</td>\n",
              "    </tr>\n",
              "    <tr>\n",
              "      <th>4</th>\n",
              "      <td>COVID-00004</td>\n",
              "      <td>2.0</td>\n",
              "      <td>M</td>\n",
              "      <td>42</td>\n",
              "      <td>COVID-19</td>\n",
              "      <td>NaN</td>\n",
              "      <td>NaN</td>\n",
              "      <td>91-92</td>\n",
              "      <td>PA</td>\n",
              "      <td>X-ray</td>\n",
              "      <td>NaN</td>\n",
              "      <td>42 year old male patient presented to ED with ...</td>\n",
              "      <td>COVID-00004.jpg</td>\n",
              "    </tr>\n",
              "  </tbody>\n",
              "</table>\n",
              "</div>"
            ],
            "text/plain": [
              "      patientid  ...          img_name\n",
              "0   COVID-00001  ...   COVID-00001.jpg\n",
              "1   COVID-00002  ...   COVID-00002.jpg\n",
              "2  COVID-00003a  ...  COVID-00003a.jpg\n",
              "3  COVID-00003b  ...  COVID-00003b.jpg\n",
              "4   COVID-00004  ...   COVID-00004.jpg\n",
              "\n",
              "[5 rows x 13 columns]"
            ]
          },
          "metadata": {
            "tags": []
          },
          "execution_count": 13
        }
      ]
    },
    {
      "cell_type": "code",
      "metadata": {
        "colab": {
          "base_uri": "https://localhost:8080/"
        },
        "id": "oBnh-5hgqJLb",
        "outputId": "15924c4b-d2c6-4cad-fd9a-4c699c450708"
      },
      "source": [
        "df['finding'].unique()"
      ],
      "execution_count": 14,
      "outputs": [
        {
          "output_type": "execute_result",
          "data": {
            "text/plain": [
              "array(['COVID-19', nan, 'No finding', 'Pneumonia'], dtype=object)"
            ]
          },
          "metadata": {
            "tags": []
          },
          "execution_count": 14
        }
      ]
    },
    {
      "cell_type": "code",
      "metadata": {
        "colab": {
          "base_uri": "https://localhost:8080/"
        },
        "id": "J9f2T3v5qXlh",
        "outputId": "b099e0d0-c78d-4710-ef7f-e2e1e6f1448e"
      },
      "source": [
        "img_src_dir = \"/content/Figure1-COVID-chestxray-dataset/images\"\n",
        "\n",
        "covid_imgs = []\n",
        "normal_imgs = []\n",
        "pneumonia_imgs = []\n",
        "\n",
        "for find, img in np.array(df[['finding', 'img_name']]):\n",
        "  if find=='COVID-19':\n",
        "    covid_imgs.append(img)\n",
        "  if find=='No finding':\n",
        "    normal_imgs.append(img)\n",
        "  if find=='Pneumonia':\n",
        "    pneumonia_imgs.append(img)\n",
        "\n",
        "# copy images to covid and normal dir\n",
        "random_split(covid_imgs, img_src_dir, 'covid')\n",
        "random_split(normal_imgs, img_src_dir, 'normal')\n",
        "random_split(pneumonia_imgs, img_src_dir, 'pneumonia')\n"
      ],
      "execution_count": 15,
      "outputs": [
        {
          "output_type": "stream",
          "text": [
            "Class: covid \n",
            "Train Imgs: 28 \n",
            "Val Imgs: 4 \n",
            "Test Imgs: 3\n",
            "\n",
            "Class: normal \n",
            "Train Imgs: 2 \n",
            "Val Imgs: 1 \n",
            "Test Imgs: 0\n",
            "\n",
            "Class: pneumonia \n",
            "Train Imgs: 1 \n",
            "Val Imgs: 1 \n",
            "Test Imgs: 0\n",
            "\n"
          ],
          "name": "stdout"
        }
      ]
    },
    {
      "cell_type": "code",
      "metadata": {
        "colab": {
          "base_uri": "https://localhost:8080/"
        },
        "id": "82VyF0M93X2t",
        "outputId": "6ab1bbae-3894-41d6-ac70-1f64b3280b4b"
      },
      "source": [
        "print('Covid', len(os.listdir('/content/data/train/covid'))+len(os.listdir('/content/data/test/covid'))+len(os.listdir('/content/data/val/covid')))\n",
        "print('Normal', len(os.listdir('/content/data/train/normal'))+len(os.listdir('/content/data/test/normal'))+len(os.listdir('/content/data/val/normal')))\n",
        "print('Pneumonoia', len(os.listdir('/content/data/train/pneumonia'))+len(os.listdir('/content/data/test/pneumonia'))+len(os.listdir('/content/data/val/pneumonia')))\n"
      ],
      "execution_count": 16,
      "outputs": [
        {
          "output_type": "stream",
          "text": [
            "Covid 93\n",
            "Normal 130\n",
            "Pneumonoia 2\n"
          ],
          "name": "stdout"
        }
      ]
    },
    {
      "cell_type": "markdown",
      "metadata": {
        "id": "R2WfYgjRL2hy"
      },
      "source": [
        "#Data Source 3"
      ]
    },
    {
      "cell_type": "code",
      "metadata": {
        "colab": {
          "base_uri": "https://localhost:8080/"
        },
        "id": "CbQfavXzEqIZ",
        "outputId": "f3ea7cb8-d59f-42eb-b704-c9e436a57760"
      },
      "source": [
        "from google.colab import drive\n",
        "drive.mount('/content/drive')"
      ],
      "execution_count": 17,
      "outputs": [
        {
          "output_type": "stream",
          "text": [
            "Mounted at /content/drive\n"
          ],
          "name": "stdout"
        }
      ]
    },
    {
      "cell_type": "code",
      "metadata": {
        "colab": {
          "base_uri": "https://localhost:8080/"
        },
        "id": "JFsuRxKCL05x",
        "outputId": "1f519e2a-4e70-484f-89e3-df98e13f8de4"
      },
      "source": [
        "# os.environ['KAGGLE_CONFIG_DIR'] = '/content/drive/MyDrive/AI Colab/Kaggle'\n",
        "!kaggle datasets download -d tawsifurrahman/covid19-radiography-database\n",
        "# !kaggle datasets download -d paultimothymooney/chest-xray-pneumonia"
      ],
      "execution_count": 24,
      "outputs": [
        {
          "output_type": "stream",
          "text": [
            "Downloading covid19-radiography-database.zip to /content\n",
            " 99% 1.14G/1.15G [00:13<00:00, 93.8MB/s]\n",
            "100% 1.15G/1.15G [00:13<00:00, 91.2MB/s]\n"
          ],
          "name": "stdout"
        }
      ]
    },
    {
      "cell_type": "code",
      "metadata": {
        "id": "D6paKb9lgmbR"
      },
      "source": [
        "#unzipping the zip files and deleting the zip files\n",
        "!unzip /content/covid19-radiography-database.zip  && /content/covid19-radiography-database.zip"
      ],
      "execution_count": null,
      "outputs": []
    },
    {
      "cell_type": "code",
      "metadata": {
        "colab": {
          "base_uri": "https://localhost:8080/"
        },
        "id": "K5WRjaaRhWZB",
        "outputId": "30c54e98-64b6-4eba-8f85-a05430c96ced"
      },
      "source": [
        "print('Covid:',len(os.listdir('/content/COVID-19 Radiography Database/COVID-19')))\n",
        "print('Normal:',len(os.listdir('/content/COVID-19 Radiography Database/NORMAL')))\n",
        "print('Pneumonia:',len(os.listdir('/content/COVID-19 Radiography Database/Viral Pneumonia')))"
      ],
      "execution_count": 29,
      "outputs": [
        {
          "output_type": "stream",
          "text": [
            "Covid: 219\n",
            "Normal: 1341\n",
            "Pneumonia: 1345\n"
          ],
          "name": "stdout"
        }
      ]
    },
    {
      "cell_type": "code",
      "metadata": {
        "colab": {
          "base_uri": "https://localhost:8080/"
        },
        "id": "_2adu2-vhM23",
        "outputId": "1b8d0113-75c8-419a-ae68-ea46ae9d826f"
      },
      "source": [
        "covid_img_src_dir = '/content/COVID-19 Radiography Database/COVID-19'\n",
        "normal_img_src_dir = '/content/COVID-19 Radiography Database/NORMAL'\n",
        "pneumonia_img_src_dir = '/content/COVID-19 Radiography Database//Viral Pneumonia'\n",
        "\n",
        "covid_imgs = os.listdir(covid_img_src_dir)\n",
        "normal_imgs = os.listdir(normal_img_src_dir)\n",
        "pneumonia_imgs = os.listdir(pneumonia_img_src_dir)\n",
        "\n",
        "# copy images to covid and normal dir\n",
        "random_split(covid_imgs, covid_img_src_dir, 'covid')\n",
        "random_split(normal_imgs, normal_img_src_dir, 'normal')\n",
        "random_split(pneumonia_imgs, pneumonia_img_src_dir, 'pneumonia')\n"
      ],
      "execution_count": 30,
      "outputs": [
        {
          "output_type": "stream",
          "text": [
            "Class: covid \n",
            "Train Imgs: 175 \n",
            "Val Imgs: 22 \n",
            "Test Imgs: 22\n",
            "\n",
            "Class: normal \n",
            "Train Imgs: 1072 \n",
            "Val Imgs: 135 \n",
            "Test Imgs: 134\n",
            "\n",
            "Class: pneumonia \n",
            "Train Imgs: 1076 \n",
            "Val Imgs: 135 \n",
            "Test Imgs: 134\n",
            "\n"
          ],
          "name": "stdout"
        }
      ]
    },
    {
      "cell_type": "code",
      "metadata": {
        "colab": {
          "base_uri": "https://localhost:8080/"
        },
        "id": "lk8KLfRehLK_",
        "outputId": "401099d9-3be1-4749-a11d-082f595450fd"
      },
      "source": [
        "print('Covid', len(os.listdir('/content/data/train/covid'))+len(os.listdir('/content/data/test/covid'))+len(os.listdir('/content/data/val/covid')))\n",
        "print('Normal', len(os.listdir('/content/data/train/normal'))+len(os.listdir('/content/data/test/normal'))+len(os.listdir('/content/data/val/normal')))\n",
        "print('Pneumonoia', len(os.listdir('/content/data/train/pneumonia'))+len(os.listdir('/content/data/test/pneumonia'))+len(os.listdir('/content/data/val/pneumonia')))\n"
      ],
      "execution_count": 32,
      "outputs": [
        {
          "output_type": "stream",
          "text": [
            "Covid 312\n",
            "Normal 1471\n",
            "Pneumonoia 1347\n"
          ],
          "name": "stdout"
        }
      ]
    },
    {
      "cell_type": "markdown",
      "metadata": {
        "id": "63s8vUCuD2Gs"
      },
      "source": [
        "#Exporting Data"
      ]
    },
    {
      "cell_type": "code",
      "metadata": {
        "colab": {
          "base_uri": "https://localhost:8080/",
          "height": 35
        },
        "id": "Bp66Zhhc6YwF",
        "outputId": "0d587f20-0b67-44f1-afca-d4ef0a6e5669"
      },
      "source": [
        "shutil.copytree('/content/data', '/content/drive/MyDrive/AI Colab/Final Covid Diagnosis/data', copy_function = shutil.copy)"
      ],
      "execution_count": 33,
      "outputs": [
        {
          "output_type": "execute_result",
          "data": {
            "application/vnd.google.colaboratory.intrinsic+json": {
              "type": "string"
            },
            "text/plain": [
              "'/content/drive/MyDrive/AI Colab/Final Covid Diagnosis/data'"
            ]
          },
          "metadata": {
            "tags": []
          },
          "execution_count": 33
        }
      ]
    }
  ]
}