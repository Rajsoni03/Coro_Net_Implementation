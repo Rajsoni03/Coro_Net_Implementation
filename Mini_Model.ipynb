{
  "nbformat": 4,
  "nbformat_minor": 0,
  "metadata": {
    "colab": {
      "name": "Mini Model.ipynb",
      "provenance": [],
      "collapsed_sections": [
        "6PUBOF7dtMeD"
      ],
      "machine_shape": "hm",
      "include_colab_link": true
    },
    "kernelspec": {
      "name": "python3",
      "display_name": "Python 3"
    },
    "accelerator": "GPU"
  },
  "cells": [
    {
      "cell_type": "markdown",
      "metadata": {
        "id": "view-in-github",
        "colab_type": "text"
      },
      "source": [
        "<a href=\"https://colab.research.google.com/github/Rajsoni03/Covid-X-ray-Dataset/blob/main/Mini_Model.ipynb\" target=\"_parent\"><img src=\"https://colab.research.google.com/assets/colab-badge.svg\" alt=\"Open In Colab\"/></a>"
      ]
    },
    {
      "cell_type": "markdown",
      "metadata": {
        "id": "6PUBOF7dtMeD"
      },
      "source": [
        "#Mount Drive"
      ]
    },
    {
      "cell_type": "code",
      "metadata": {
        "id": "LiEj8VO75DFR",
        "colab": {
          "base_uri": "https://localhost:8080/"
        },
        "outputId": "10d44297-50f5-4984-c862-8c4501737a75"
      },
      "source": [
        "from google.colab import drive\n",
        "drive.mount('/content/drive')"
      ],
      "execution_count": null,
      "outputs": [
        {
          "output_type": "stream",
          "text": [
            "Mounted at /content/drive\n"
          ],
          "name": "stdout"
        }
      ]
    },
    {
      "cell_type": "markdown",
      "metadata": {
        "id": "uZgNEamhtc3A"
      },
      "source": [
        "# Importing Libraries"
      ]
    },
    {
      "cell_type": "code",
      "metadata": {
        "colab": {
          "base_uri": "https://localhost:8080/"
        },
        "id": "bSFodzLctfvo",
        "outputId": "997e2bc5-beb7-4fba-c16d-4ef8038e45fe"
      },
      "source": [
        "from tensorflow.keras.layers import AveragePooling2D, Dropout, Flatten, Input, Dense, MaxPooling2D, Conv2D, Concatenate\n",
        "from tensorflow.keras.models import Model\n",
        "from tensorflow.keras.optimizers import Adam\n",
        "from tensorflow.keras.utils import to_categorical\n",
        "from tensorflow.keras.preprocessing.image import ImageDataGenerator\n",
        "from tensorflow.keras.callbacks import TensorBoard\n",
        "from keras.callbacks import LearningRateScheduler\n",
        "from sklearn.preprocessing import LabelBinarizer\n",
        "from sklearn.metrics import classification_report\n",
        "from sklearn.metrics import confusion_matrix\n",
        "from imutils import paths\n",
        "import matplotlib.pyplot as plt\n",
        "import pandas as pd\n",
        "import numpy as np\n",
        "import random\n",
        "import shutil\n",
        "import time\n",
        "import cv2\n",
        "import os\n",
        "\n",
        "print('Library Importing Complete')"
      ],
      "execution_count": null,
      "outputs": [
        {
          "output_type": "stream",
          "text": [
            "Library Importing Complete\n"
          ],
          "name": "stdout"
        }
      ]
    },
    {
      "cell_type": "markdown",
      "metadata": {
        "id": "wkz35QqXuqX9"
      },
      "source": [
        "# Importing Data"
      ]
    },
    {
      "cell_type": "code",
      "metadata": {
        "colab": {
          "base_uri": "https://localhost:8080/",
          "height": 35
        },
        "id": "kRbXoxqpup5C",
        "outputId": "4df3a80f-d096-4b4b-a2a8-5ae7cba57182"
      },
      "source": [
        "# Copy data from Drive to Local Storage\n",
        "shutil.copytree('/content/drive/MyDrive/AI Colab/Final Covid Diagnosis/data', '/content/data', copy_function = shutil.copy)"
      ],
      "execution_count": null,
      "outputs": [
        {
          "output_type": "execute_result",
          "data": {
            "application/vnd.google.colaboratory.intrinsic+json": {
              "type": "string"
            },
            "text/plain": [
              "'/content/data'"
            ]
          },
          "metadata": {
            "tags": []
          },
          "execution_count": 3
        }
      ]
    },
    {
      "cell_type": "code",
      "metadata": {
        "colab": {
          "base_uri": "https://localhost:8080/"
        },
        "id": "u6-p4DeDksXZ",
        "outputId": "986f821a-83da-4e89-e770-1b688e3abd83"
      },
      "source": [
        "!git clone https://github.com/Rajsoni03/MyData.git"
      ],
      "execution_count": null,
      "outputs": [
        {
          "output_type": "stream",
          "text": [
            "Cloning into 'MyData'...\n",
            "remote: Enumerating objects: 7250, done.\u001b[K\n",
            "remote: Total 7250 (delta 0), reused 0 (delta 0), pack-reused 7250\u001b[K\n",
            "Receiving objects: 100% (7250/7250), 524.06 MiB | 45.03 MiB/s, done.\n",
            "Resolving deltas: 100% (3/3), done.\n",
            "Checking out files: 100% (7261/7261), done.\n"
          ],
          "name": "stdout"
        }
      ]
    },
    {
      "cell_type": "code",
      "metadata": {
        "id": "8zMmxoaalUxe"
      },
      "source": [
        "os.mkdir('/content/data1')\n",
        "os.mkdir('/content/data1/train')\n",
        "os.mkdir('/content/data1/val')\n",
        "os.mkdir('/content/data1/test')\n",
        "\n",
        "\n",
        "os.mkdir('/content/data1/train/covid')\n",
        "os.mkdir('/content/data1/train/normal')\n",
        "os.mkdir('/content/data1/train/pneumonia')\n",
        "\n",
        "os.mkdir('/content/data1/val/covid')\n",
        "os.mkdir('/content/data1/val/normal')\n",
        "os.mkdir('/content/data1/val/pneumonia')\n",
        "\n",
        "os.mkdir('/content/data1/test/covid')\n",
        "os.mkdir('/content/data1/test/normal')\n",
        "os.mkdir('/content/data1/test/pneumonia')\n"
      ],
      "execution_count": null,
      "outputs": []
    },
    {
      "cell_type": "code",
      "metadata": {
        "id": "X_K5XdkNlbYf"
      },
      "source": [
        "main_dir = \"/content/data1\"\n",
        "\n",
        "def random_split(images, base_dir, class_name):\n",
        "  length = len(images)\n",
        "  images = images\n",
        "  np.random.shuffle(images)\n",
        "  \n",
        "  no_of_train_end  = int(length * 0.8)\n",
        "  no_of_val_end  = int(length * 0.9)\n",
        "\n",
        "  print('Class:', class_name,'\\nTrain Imgs:', no_of_train_end,'\\nVal Imgs:',length-no_of_val_end,'\\nTest Imgs:',  no_of_val_end-no_of_train_end, end='\\n\\n')\n",
        "\n",
        "  for img in images[:no_of_train_end]:\n",
        "    # print(os.path.join(base_dir, img), os.path.join(os.path.join(os.path.join(main_dir, 'train'), class_name), img))\n",
        "    shutil.copy(os.path.join(base_dir, img), os.path.join(os.path.join(os.path.join(main_dir, 'train'), class_name), img))\n",
        "  for img in images[no_of_val_end:]:\n",
        "    # print(os.path.join(base_dir, img), os.path.join(os.path.join(os.path.join(main_dir, 'val'), class_name), img))\n",
        "    shutil.copy(os.path.join(base_dir, img), os.path.join(os.path.join(os.path.join(main_dir,  'val'), class_name), img))\n",
        "  for img in images[no_of_train_end: no_of_val_end]:\n",
        "    # print(os.path.join(base_dir, img), os.path.join(os.path.join(os.path.join(main_dir, 'test'), class_name), img))\n",
        "    shutil.copy(os.path.join(base_dir, img), os.path.join(os.path.join(os.path.join(main_dir, 'test'), class_name), img))"
      ],
      "execution_count": null,
      "outputs": []
    },
    {
      "cell_type": "code",
      "metadata": {
        "colab": {
          "base_uri": "https://localhost:8080/"
        },
        "id": "xQtBwOMalbcK",
        "outputId": "61a8328e-ed73-43c5-f437-15457d7b6641"
      },
      "source": [
        "covid_img_src_dir = '/content/MyData/data/covid'\n",
        "normal_img_src_dir = '/content/MyData/data/normal'\n",
        "pneumonia_img_src_dir = '/content/MyData/data/pneumonia'\n",
        "\n",
        "covid_imgs = os.listdir(covid_img_src_dir)\n",
        "normal_imgs = os.listdir(normal_img_src_dir)\n",
        "pneumonia_imgs = os.listdir(pneumonia_img_src_dir)\n",
        "\n",
        "# copy images to covid and normal dir\n",
        "random_split(covid_imgs, covid_img_src_dir, 'covid')\n",
        "random_split(normal_imgs, normal_img_src_dir, 'normal')\n",
        "random_split(pneumonia_imgs, pneumonia_img_src_dir, 'pneumonia')\n"
      ],
      "execution_count": null,
      "outputs": [
        {
          "output_type": "stream",
          "text": [
            "Class: covid \n",
            "Train Imgs: 560 \n",
            "Val Imgs: 70 \n",
            "Test Imgs: 70\n",
            "\n",
            "Class: normal \n",
            "Train Imgs: 1826 \n",
            "Val Imgs: 229 \n",
            "Test Imgs: 228\n",
            "\n",
            "Class: pneumonia \n",
            "Train Imgs: 3418 \n",
            "Val Imgs: 428 \n",
            "Test Imgs: 427\n",
            "\n"
          ],
          "name": "stdout"
        }
      ]
    },
    {
      "cell_type": "code",
      "metadata": {
        "colab": {
          "base_uri": "https://localhost:8080/"
        },
        "id": "NUvgXflavGvI",
        "outputId": "b27045d3-603a-40b8-8a92-256a01d56385"
      },
      "source": [
        "# initialize the training and Val data augmentation object\n",
        "tarin_data_gen = ImageDataGenerator(rotation_range=15,\n",
        "                                    width_shift_range=0.1,\n",
        "                                    height_shift_range=0.1,\n",
        "                                    shear_range=0.1,\n",
        "                                    zoom_range=.1,\n",
        "                                    horizontal_flip=True,\n",
        "                                    rescale=1./255)\n",
        "\n",
        "train_data_gen = tarin_data_gen.flow_from_directory('/content/data/train',\n",
        "                                                    target_size=(224, 224),\n",
        "                                                    batch_size=32,\n",
        "                                                    class_mode='categorical')\n",
        "\n",
        "val_data_gen = ImageDataGenerator(rescale=1./255)\n",
        "val_data_gen = val_data_gen.flow_from_directory('/content/data/val',\n",
        "                                                target_size=(224, 224),\n",
        "                                                batch_size=32,\n",
        "                                                class_mode='categorical')"
      ],
      "execution_count": null,
      "outputs": [
        {
          "output_type": "stream",
          "text": [
            "Found 2501 images belonging to 3 classes.\n",
            "Found 317 images belonging to 3 classes.\n"
          ],
          "name": "stdout"
        }
      ]
    },
    {
      "cell_type": "markdown",
      "metadata": {
        "id": "QiaQh9wa27NU"
      },
      "source": [
        "#Creating Model"
      ]
    },
    {
      "cell_type": "code",
      "metadata": {
        "colab": {
          "base_uri": "https://localhost:8080/"
        },
        "id": "Fk0B73Ow26q_",
        "outputId": "1aecdedd-3ba2-4b5b-98b9-0867c0648fd1"
      },
      "source": [
        "input_X = Input(shape=(224, 224, 3))\n",
        "\n",
        "X = Conv2D(16, (3, 3), activation='relu')(input_X)\n",
        "X = MaxPooling2D((2, 2))(X)\n",
        "\n",
        "X = Conv2D(32, (3, 3), activation='relu')(X)\n",
        "X = MaxPooling2D((2, 2))(X)\n",
        "\n",
        "X = Conv2D(64, (3, 3), activation='relu')(X)\n",
        "X = MaxPooling2D((2, 2))(X)\n",
        "\n",
        "X = AveragePooling2D((4,4))(X)\n",
        "X = Flatten()(X)\n",
        "X = Dense(512, activation='relu')(X)\n",
        "X = Dense(128, activation='relu')(X)\n",
        "X = Dense(3, activation='softmax')(X)\n",
        "\n",
        "model = Model(inputs=input_X, outputs=X)\n",
        "\n",
        "model.summary()"
      ],
      "execution_count": null,
      "outputs": [
        {
          "output_type": "stream",
          "text": [
            "Model: \"functional_23\"\n",
            "_________________________________________________________________\n",
            "Layer (type)                 Output Shape              Param #   \n",
            "=================================================================\n",
            "input_12 (InputLayer)        [(None, 224, 224, 3)]     0         \n",
            "_________________________________________________________________\n",
            "conv2d_74 (Conv2D)           (None, 222, 222, 16)      448       \n",
            "_________________________________________________________________\n",
            "max_pooling2d_73 (MaxPooling (None, 111, 111, 16)      0         \n",
            "_________________________________________________________________\n",
            "conv2d_75 (Conv2D)           (None, 109, 109, 32)      4640      \n",
            "_________________________________________________________________\n",
            "max_pooling2d_74 (MaxPooling (None, 54, 54, 32)        0         \n",
            "_________________________________________________________________\n",
            "conv2d_76 (Conv2D)           (None, 52, 52, 64)        18496     \n",
            "_________________________________________________________________\n",
            "max_pooling2d_75 (MaxPooling (None, 26, 26, 64)        0         \n",
            "_________________________________________________________________\n",
            "average_pooling2d_11 (Averag (None, 6, 6, 64)          0         \n",
            "_________________________________________________________________\n",
            "flatten_11 (Flatten)         (None, 2304)              0         \n",
            "_________________________________________________________________\n",
            "dense_23 (Dense)             (None, 512)               1180160   \n",
            "_________________________________________________________________\n",
            "dense_24 (Dense)             (None, 128)               65664     \n",
            "_________________________________________________________________\n",
            "dense_25 (Dense)             (None, 3)                 387       \n",
            "=================================================================\n",
            "Total params: 1,269,795\n",
            "Trainable params: 1,269,795\n",
            "Non-trainable params: 0\n",
            "_________________________________________________________________\n"
          ],
          "name": "stdout"
        }
      ]
    },
    {
      "cell_type": "code",
      "metadata": {
        "colab": {
          "base_uri": "https://localhost:8080/"
        },
        "id": "7T2F10hNSeuU",
        "outputId": "b3a2383b-4362-427d-b6df-230f0eeb12f4"
      },
      "source": [
        "input_X = Input(shape=(224, 224, 3))\n",
        "\n",
        "X = Conv2D(8, (3, 3), activation='relu')(input_X)\n",
        "X = MaxPooling2D((2, 2))(X)\n",
        "\n",
        "X1 = Conv2D(8, (3, 3), activation='relu')(X)\n",
        "C1 = MaxPooling2D((2, 2))(X1)\n",
        "X2 = Conv2D(8, (3, 3), activation='relu')(X)\n",
        "C2 = MaxPooling2D((2, 2))(X2)\n",
        "X3 = Conv2D(8, (3, 3), activation='relu')(X)\n",
        "C3 = MaxPooling2D((2, 2))(X3)\n",
        "X = Concatenate(axis=-1)([X1, X2, X3])\n",
        "\n",
        "X = Conv2D(8, (3, 3), activation='relu')(X)\n",
        "X = MaxPooling2D((2, 2))(X)\n",
        "\n",
        "X1 = Conv2D(16, (3, 3), activation='relu')(X)\n",
        "C1 = MaxPooling2D((2, 2))(X1)\n",
        "X2 = Conv2D(16, (3, 3), activation='relu')(X)\n",
        "C2 = MaxPooling2D((2, 2))(X2)\n",
        "X3 = Conv2D(16, (3, 3), activation='relu')(X)\n",
        "C3 = MaxPooling2D((2, 2))(X3)\n",
        "X = Concatenate(axis=-1)([X1, X2, X3])\n",
        "\n",
        "X = Conv2D(8, (3, 3), activation='relu')(X)\n",
        "X = MaxPooling2D((2, 2))(X)\n",
        "\n",
        "X1 = Conv2D(32, (3, 3), activation='relu')(X)\n",
        "C1 = MaxPooling2D((2, 2))(X1)\n",
        "X2 = Conv2D(32, (3, 3), activation='relu')(X)\n",
        "C2 = MaxPooling2D((2, 2))(X2)\n",
        "X3 = Conv2D(32, (3, 3), activation='relu')(X)\n",
        "C3 = MaxPooling2D((2, 2))(X3)\n",
        "X = Concatenate(axis=-1)([X1, X2, X3])\n",
        "\n",
        "X = Conv2D(8, (3, 3), activation='relu')(X)\n",
        "X = MaxPooling2D((2, 2))(X)\n",
        "\n",
        "X = AveragePooling2D((4,4))(X)\n",
        "X = Flatten()(X)\n",
        "X = Dropout(.8)(X)\n",
        "X = Dense(1024, activation='relu')(X)\n",
        "X = Dense(128, activation='relu')(X)\n",
        "X = Dense(3, activation='softmax')(X)\n",
        "\n",
        "model = Model(inputs=input_X, outputs=X)\n",
        "\n",
        "model.summary()"
      ],
      "execution_count": null,
      "outputs": [
        {
          "output_type": "stream",
          "text": [
            "Model: \"functional_19\"\n",
            "__________________________________________________________________________________________________\n",
            "Layer (type)                    Output Shape         Param #     Connected to                     \n",
            "==================================================================================================\n",
            "input_10 (InputLayer)           [(None, 224, 224, 3) 0                                            \n",
            "__________________________________________________________________________________________________\n",
            "conv2d_58 (Conv2D)              (None, 222, 222, 8)  224         input_10[0][0]                   \n",
            "__________________________________________________________________________________________________\n",
            "max_pooling2d_57 (MaxPooling2D) (None, 111, 111, 8)  0           conv2d_58[0][0]                  \n",
            "__________________________________________________________________________________________________\n",
            "conv2d_59 (Conv2D)              (None, 109, 109, 8)  584         max_pooling2d_57[0][0]           \n",
            "__________________________________________________________________________________________________\n",
            "conv2d_60 (Conv2D)              (None, 109, 109, 8)  584         max_pooling2d_57[0][0]           \n",
            "__________________________________________________________________________________________________\n",
            "conv2d_61 (Conv2D)              (None, 109, 109, 8)  584         max_pooling2d_57[0][0]           \n",
            "__________________________________________________________________________________________________\n",
            "concatenate_15 (Concatenate)    (None, 109, 109, 24) 0           conv2d_59[0][0]                  \n",
            "                                                                 conv2d_60[0][0]                  \n",
            "                                                                 conv2d_61[0][0]                  \n",
            "__________________________________________________________________________________________________\n",
            "conv2d_62 (Conv2D)              (None, 107, 107, 8)  1736        concatenate_15[0][0]             \n",
            "__________________________________________________________________________________________________\n",
            "max_pooling2d_61 (MaxPooling2D) (None, 53, 53, 8)    0           conv2d_62[0][0]                  \n",
            "__________________________________________________________________________________________________\n",
            "conv2d_63 (Conv2D)              (None, 51, 51, 16)   1168        max_pooling2d_61[0][0]           \n",
            "__________________________________________________________________________________________________\n",
            "conv2d_64 (Conv2D)              (None, 51, 51, 16)   1168        max_pooling2d_61[0][0]           \n",
            "__________________________________________________________________________________________________\n",
            "conv2d_65 (Conv2D)              (None, 51, 51, 16)   1168        max_pooling2d_61[0][0]           \n",
            "__________________________________________________________________________________________________\n",
            "concatenate_16 (Concatenate)    (None, 51, 51, 48)   0           conv2d_63[0][0]                  \n",
            "                                                                 conv2d_64[0][0]                  \n",
            "                                                                 conv2d_65[0][0]                  \n",
            "__________________________________________________________________________________________________\n",
            "conv2d_66 (Conv2D)              (None, 49, 49, 8)    3464        concatenate_16[0][0]             \n",
            "__________________________________________________________________________________________________\n",
            "max_pooling2d_65 (MaxPooling2D) (None, 24, 24, 8)    0           conv2d_66[0][0]                  \n",
            "__________________________________________________________________________________________________\n",
            "conv2d_67 (Conv2D)              (None, 22, 22, 32)   2336        max_pooling2d_65[0][0]           \n",
            "__________________________________________________________________________________________________\n",
            "conv2d_68 (Conv2D)              (None, 22, 22, 32)   2336        max_pooling2d_65[0][0]           \n",
            "__________________________________________________________________________________________________\n",
            "conv2d_69 (Conv2D)              (None, 22, 22, 32)   2336        max_pooling2d_65[0][0]           \n",
            "__________________________________________________________________________________________________\n",
            "concatenate_17 (Concatenate)    (None, 22, 22, 96)   0           conv2d_67[0][0]                  \n",
            "                                                                 conv2d_68[0][0]                  \n",
            "                                                                 conv2d_69[0][0]                  \n",
            "__________________________________________________________________________________________________\n",
            "conv2d_70 (Conv2D)              (None, 20, 20, 8)    6920        concatenate_17[0][0]             \n",
            "__________________________________________________________________________________________________\n",
            "max_pooling2d_69 (MaxPooling2D) (None, 10, 10, 8)    0           conv2d_70[0][0]                  \n",
            "__________________________________________________________________________________________________\n",
            "average_pooling2d_9 (AveragePoo (None, 2, 2, 8)      0           max_pooling2d_69[0][0]           \n",
            "__________________________________________________________________________________________________\n",
            "flatten_9 (Flatten)             (None, 32)           0           average_pooling2d_9[0][0]        \n",
            "__________________________________________________________________________________________________\n",
            "dropout (Dropout)               (None, 32)           0           flatten_9[0][0]                  \n",
            "__________________________________________________________________________________________________\n",
            "dense_18 (Dense)                (None, 1024)         33792       dropout[0][0]                    \n",
            "__________________________________________________________________________________________________\n",
            "dense_19 (Dense)                (None, 128)          131200      dense_18[0][0]                   \n",
            "__________________________________________________________________________________________________\n",
            "dense_20 (Dense)                (None, 3)            387         dense_19[0][0]                   \n",
            "==================================================================================================\n",
            "Total params: 189,987\n",
            "Trainable params: 189,987\n",
            "Non-trainable params: 0\n",
            "__________________________________________________________________________________________________\n"
          ],
          "name": "stdout"
        }
      ]
    },
    {
      "cell_type": "markdown",
      "metadata": {
        "id": "sQp2I6433KZE"
      },
      "source": [
        "# Setup Hyperparameters"
      ]
    },
    {
      "cell_type": "code",
      "metadata": {
        "id": "15afm9_s2z2B"
      },
      "source": [
        "Epochs = 100\n",
        "BS = 32\n",
        "LR = 0.001\n",
        "decay = LR / Epochs"
      ],
      "execution_count": null,
      "outputs": []
    },
    {
      "cell_type": "code",
      "metadata": {
        "id": "wwdxdN5W3V34"
      },
      "source": [
        "# opt = Adam(lr=LR, decay=LR/Epochs)\n",
        "model.compile(loss=\"categorical_crossentropy\", optimizer='Adam', metrics=[\"accuracy\"])"
      ],
      "execution_count": null,
      "outputs": []
    },
    {
      "cell_type": "code",
      "metadata": {
        "id": "GJeaL1dcOgcL"
      },
      "source": [
        "# def lr_time_based_decay(epoch, lr):\n",
        "#     return lr * 1 / (1 + decay * epoch)"
      ],
      "execution_count": null,
      "outputs": []
    },
    {
      "cell_type": "code",
      "metadata": {
        "colab": {
          "base_uri": "https://localhost:8080/"
        },
        "id": "gpbsAEdl4FlC",
        "outputId": "8904dd9d-686c-4cbb-d1b0-ee08acff9e18"
      },
      "source": [
        "# train the model\n",
        "Mini_H = model.fit_generator(train_data_gen, \n",
        "                             steps_per_epoch=2501//BS,\n",
        "                             epochs=Epochs,\n",
        "                             validation_data=val_data_gen,\n",
        "                            #  callbacks=[LearningRateScheduler(lr_time_based_decay, verbose=1)]\n",
        "                             )"
      ],
      "execution_count": 87,
      "outputs": [
        {
          "output_type": "stream",
          "text": [
            "Epoch 1/100\n",
            "78/78 [==============================] - 83s 1s/step - loss: 0.8950 - accuracy: 0.5294 - val_loss: 0.6519 - val_accuracy: 0.7192\n",
            "Epoch 2/100\n",
            "78/78 [==============================] - 81s 1s/step - loss: 0.6152 - accuracy: 0.7380 - val_loss: 0.4754 - val_accuracy: 0.8297\n",
            "Epoch 3/100\n",
            "78/78 [==============================] - 82s 1s/step - loss: 0.5165 - accuracy: 0.7712 - val_loss: 0.4601 - val_accuracy: 0.8139\n",
            "Epoch 4/100\n",
            "78/78 [==============================] - 82s 1s/step - loss: 0.4323 - accuracy: 0.8327 - val_loss: 0.3243 - val_accuracy: 0.8864\n",
            "Epoch 5/100\n",
            "78/78 [==============================] - 82s 1s/step - loss: 0.4066 - accuracy: 0.8457 - val_loss: 0.3438 - val_accuracy: 0.8644\n",
            "Epoch 6/100\n",
            "78/78 [==============================] - 82s 1s/step - loss: 0.3730 - accuracy: 0.8554 - val_loss: 0.3327 - val_accuracy: 0.8770\n",
            "Epoch 7/100\n",
            "78/78 [==============================] - 82s 1s/step - loss: 0.3656 - accuracy: 0.8659 - val_loss: 0.3256 - val_accuracy: 0.8770\n",
            "Epoch 8/100\n",
            "78/78 [==============================] - 81s 1s/step - loss: 0.3513 - accuracy: 0.8635 - val_loss: 0.3091 - val_accuracy: 0.8864\n",
            "Epoch 9/100\n",
            "78/78 [==============================] - 82s 1s/step - loss: 0.3322 - accuracy: 0.8676 - val_loss: 0.4142 - val_accuracy: 0.8454\n",
            "Epoch 10/100\n",
            "78/78 [==============================] - 82s 1s/step - loss: 0.3103 - accuracy: 0.8805 - val_loss: 0.2692 - val_accuracy: 0.8896\n",
            "Epoch 11/100\n",
            "78/78 [==============================] - 82s 1s/step - loss: 0.3143 - accuracy: 0.8769 - val_loss: 0.2802 - val_accuracy: 0.8991\n",
            "Epoch 12/100\n",
            "78/78 [==============================] - 82s 1s/step - loss: 0.3014 - accuracy: 0.8890 - val_loss: 0.2552 - val_accuracy: 0.9054\n",
            "Epoch 13/100\n",
            "78/78 [==============================] - 83s 1s/step - loss: 0.2873 - accuracy: 0.8906 - val_loss: 0.2632 - val_accuracy: 0.9117\n",
            "Epoch 14/100\n",
            "78/78 [==============================] - 83s 1s/step - loss: 0.2691 - accuracy: 0.9028 - val_loss: 0.2468 - val_accuracy: 0.8991\n",
            "Epoch 15/100\n",
            "78/78 [==============================] - 82s 1s/step - loss: 0.2704 - accuracy: 0.8967 - val_loss: 0.2586 - val_accuracy: 0.9022\n",
            "Epoch 16/100\n",
            "78/78 [==============================] - 82s 1s/step - loss: 0.2641 - accuracy: 0.9016 - val_loss: 0.2287 - val_accuracy: 0.9243\n",
            "Epoch 17/100\n",
            "78/78 [==============================] - 82s 1s/step - loss: 0.2357 - accuracy: 0.9093 - val_loss: 0.2995 - val_accuracy: 0.8959\n",
            "Epoch 18/100\n",
            "78/78 [==============================] - 82s 1s/step - loss: 0.2521 - accuracy: 0.9052 - val_loss: 0.2978 - val_accuracy: 0.8801\n",
            "Epoch 19/100\n",
            "78/78 [==============================] - 81s 1s/step - loss: 0.2553 - accuracy: 0.8975 - val_loss: 0.2253 - val_accuracy: 0.9117\n",
            "Epoch 20/100\n",
            "78/78 [==============================] - 82s 1s/step - loss: 0.2580 - accuracy: 0.8987 - val_loss: 0.2370 - val_accuracy: 0.9085\n",
            "Epoch 21/100\n",
            "78/78 [==============================] - 82s 1s/step - loss: 0.2350 - accuracy: 0.9125 - val_loss: 0.2492 - val_accuracy: 0.9117\n",
            "Epoch 22/100\n",
            "78/78 [==============================] - 81s 1s/step - loss: 0.2089 - accuracy: 0.9218 - val_loss: 0.3308 - val_accuracy: 0.8896\n",
            "Epoch 23/100\n",
            "78/78 [==============================] - 81s 1s/step - loss: 0.2237 - accuracy: 0.9129 - val_loss: 0.2230 - val_accuracy: 0.9117\n",
            "Epoch 24/100\n",
            "78/78 [==============================] - 80s 1s/step - loss: 0.2068 - accuracy: 0.9259 - val_loss: 0.2597 - val_accuracy: 0.9180\n",
            "Epoch 25/100\n",
            "78/78 [==============================] - 80s 1s/step - loss: 0.2222 - accuracy: 0.9158 - val_loss: 0.2735 - val_accuracy: 0.9054\n",
            "Epoch 26/100\n",
            "78/78 [==============================] - 80s 1s/step - loss: 0.2222 - accuracy: 0.9149 - val_loss: 0.2228 - val_accuracy: 0.9148\n",
            "Epoch 27/100\n",
            "78/78 [==============================] - 79s 1s/step - loss: 0.2224 - accuracy: 0.9158 - val_loss: 0.2221 - val_accuracy: 0.9180\n",
            "Epoch 28/100\n",
            "78/78 [==============================] - 78s 1s/step - loss: 0.2047 - accuracy: 0.9182 - val_loss: 0.2112 - val_accuracy: 0.9274\n",
            "Epoch 29/100\n",
            "78/78 [==============================] - 78s 997ms/step - loss: 0.1966 - accuracy: 0.9222 - val_loss: 0.3098 - val_accuracy: 0.8927\n",
            "Epoch 30/100\n",
            "78/78 [==============================] - 78s 1s/step - loss: 0.2006 - accuracy: 0.9287 - val_loss: 0.1919 - val_accuracy: 0.9306\n",
            "Epoch 31/100\n",
            "78/78 [==============================] - 78s 1s/step - loss: 0.1984 - accuracy: 0.9263 - val_loss: 0.2122 - val_accuracy: 0.9243\n",
            "Epoch 32/100\n",
            "78/78 [==============================] - 78s 996ms/step - loss: 0.1866 - accuracy: 0.9320 - val_loss: 0.2978 - val_accuracy: 0.8833\n",
            "Epoch 33/100\n",
            "78/78 [==============================] - 78s 1s/step - loss: 0.2017 - accuracy: 0.9226 - val_loss: 0.2082 - val_accuracy: 0.9148\n",
            "Epoch 34/100\n",
            "78/78 [==============================] - 77s 990ms/step - loss: 0.1964 - accuracy: 0.9291 - val_loss: 0.2070 - val_accuracy: 0.9338\n",
            "Epoch 35/100\n",
            "78/78 [==============================] - 78s 1s/step - loss: 0.1847 - accuracy: 0.9307 - val_loss: 0.1880 - val_accuracy: 0.9369\n",
            "Epoch 36/100\n",
            "78/78 [==============================] - 77s 993ms/step - loss: 0.1903 - accuracy: 0.9299 - val_loss: 0.2117 - val_accuracy: 0.9306\n",
            "Epoch 37/100\n",
            "78/78 [==============================] - 78s 997ms/step - loss: 0.1852 - accuracy: 0.9348 - val_loss: 0.2086 - val_accuracy: 0.9180\n",
            "Epoch 38/100\n",
            "78/78 [==============================] - 78s 995ms/step - loss: 0.1711 - accuracy: 0.9380 - val_loss: 0.2081 - val_accuracy: 0.9211\n",
            "Epoch 39/100\n",
            "78/78 [==============================] - 78s 997ms/step - loss: 0.1892 - accuracy: 0.9332 - val_loss: 0.1849 - val_accuracy: 0.9432\n",
            "Epoch 40/100\n",
            "78/78 [==============================] - 77s 991ms/step - loss: 0.1681 - accuracy: 0.9384 - val_loss: 0.2036 - val_accuracy: 0.9338\n",
            "Epoch 41/100\n",
            "78/78 [==============================] - 78s 1s/step - loss: 0.1807 - accuracy: 0.9324 - val_loss: 0.1939 - val_accuracy: 0.9338\n",
            "Epoch 42/100\n",
            "78/78 [==============================] - 78s 1000ms/step - loss: 0.1713 - accuracy: 0.9344 - val_loss: 0.2250 - val_accuracy: 0.9211\n",
            "Epoch 43/100\n",
            "78/78 [==============================] - 79s 1s/step - loss: 0.1807 - accuracy: 0.9316 - val_loss: 0.2363 - val_accuracy: 0.9117\n",
            "Epoch 44/100\n",
            "78/78 [==============================] - 79s 1s/step - loss: 0.1767 - accuracy: 0.9328 - val_loss: 0.1833 - val_accuracy: 0.9432\n",
            "Epoch 45/100\n",
            "78/78 [==============================] - 81s 1s/step - loss: 0.1922 - accuracy: 0.9303 - val_loss: 0.1825 - val_accuracy: 0.9495\n",
            "Epoch 46/100\n",
            "78/78 [==============================] - 81s 1s/step - loss: 0.1676 - accuracy: 0.9356 - val_loss: 0.1754 - val_accuracy: 0.9369\n",
            "Epoch 47/100\n",
            "78/78 [==============================] - 80s 1s/step - loss: 0.1641 - accuracy: 0.9348 - val_loss: 0.2014 - val_accuracy: 0.9401\n",
            "Epoch 48/100\n",
            "78/78 [==============================] - 82s 1s/step - loss: 0.1577 - accuracy: 0.9392 - val_loss: 0.1827 - val_accuracy: 0.9495\n",
            "Epoch 49/100\n",
            "78/78 [==============================] - 82s 1s/step - loss: 0.1471 - accuracy: 0.9478 - val_loss: 0.1871 - val_accuracy: 0.9401\n",
            "Epoch 50/100\n",
            "78/78 [==============================] - 84s 1s/step - loss: 0.1582 - accuracy: 0.9405 - val_loss: 0.1881 - val_accuracy: 0.9369\n",
            "Epoch 51/100\n",
            "78/78 [==============================] - 84s 1s/step - loss: 0.1585 - accuracy: 0.9445 - val_loss: 0.2268 - val_accuracy: 0.9369\n",
            "Epoch 52/100\n",
            "78/78 [==============================] - 84s 1s/step - loss: 0.1782 - accuracy: 0.9275 - val_loss: 0.2152 - val_accuracy: 0.9306\n",
            "Epoch 53/100\n",
            "78/78 [==============================] - 84s 1s/step - loss: 0.1470 - accuracy: 0.9469 - val_loss: 0.2525 - val_accuracy: 0.9180\n",
            "Epoch 54/100\n",
            "78/78 [==============================] - 84s 1s/step - loss: 0.1601 - accuracy: 0.9356 - val_loss: 0.1883 - val_accuracy: 0.9401\n",
            "Epoch 55/100\n",
            "78/78 [==============================] - 84s 1s/step - loss: 0.1611 - accuracy: 0.9417 - val_loss: 0.1968 - val_accuracy: 0.9464\n",
            "Epoch 56/100\n",
            "78/78 [==============================] - 78s 1s/step - loss: 0.1792 - accuracy: 0.9332 - val_loss: 0.2327 - val_accuracy: 0.9306\n",
            "Epoch 57/100\n",
            "78/78 [==============================] - 77s 989ms/step - loss: 0.1516 - accuracy: 0.9421 - val_loss: 0.2186 - val_accuracy: 0.9306\n",
            "Epoch 58/100\n",
            "78/78 [==============================] - 76s 969ms/step - loss: 0.1577 - accuracy: 0.9384 - val_loss: 0.1669 - val_accuracy: 0.9590\n",
            "Epoch 59/100\n",
            "78/78 [==============================] - 74s 955ms/step - loss: 0.1392 - accuracy: 0.9473 - val_loss: 0.1817 - val_accuracy: 0.9432\n",
            "Epoch 60/100\n",
            "78/78 [==============================] - 74s 944ms/step - loss: 0.1408 - accuracy: 0.9449 - val_loss: 0.2023 - val_accuracy: 0.9369\n",
            "Epoch 61/100\n",
            "78/78 [==============================] - 72s 925ms/step - loss: 0.1642 - accuracy: 0.9417 - val_loss: 0.2370 - val_accuracy: 0.9369\n",
            "Epoch 62/100\n",
            "78/78 [==============================] - 71s 913ms/step - loss: 0.1547 - accuracy: 0.9441 - val_loss: 0.1997 - val_accuracy: 0.9369\n",
            "Epoch 63/100\n",
            "78/78 [==============================] - 72s 919ms/step - loss: 0.1388 - accuracy: 0.9469 - val_loss: 0.1855 - val_accuracy: 0.9432\n",
            "Epoch 64/100\n",
            "78/78 [==============================] - 72s 918ms/step - loss: 0.1312 - accuracy: 0.9502 - val_loss: 0.1943 - val_accuracy: 0.9464\n",
            "Epoch 65/100\n",
            "78/78 [==============================] - 71s 914ms/step - loss: 0.1334 - accuracy: 0.9453 - val_loss: 0.2037 - val_accuracy: 0.9401\n",
            "Epoch 66/100\n",
            "78/78 [==============================] - 71s 913ms/step - loss: 0.1447 - accuracy: 0.9445 - val_loss: 0.2086 - val_accuracy: 0.9432\n",
            "Epoch 67/100\n",
            "78/78 [==============================] - 71s 907ms/step - loss: 0.1388 - accuracy: 0.9502 - val_loss: 0.2347 - val_accuracy: 0.9306\n",
            "Epoch 68/100\n",
            "78/78 [==============================] - 76s 980ms/step - loss: 0.1437 - accuracy: 0.9482 - val_loss: 0.2309 - val_accuracy: 0.9306\n",
            "Epoch 69/100\n",
            "78/78 [==============================] - 79s 1s/step - loss: 0.1512 - accuracy: 0.9421 - val_loss: 0.2003 - val_accuracy: 0.9401\n",
            "Epoch 70/100\n",
            "78/78 [==============================] - 74s 943ms/step - loss: 0.1142 - accuracy: 0.9591 - val_loss: 0.2170 - val_accuracy: 0.9369\n",
            "Epoch 71/100\n",
            "78/78 [==============================] - 73s 930ms/step - loss: 0.1277 - accuracy: 0.9522 - val_loss: 0.2194 - val_accuracy: 0.9401\n",
            "Epoch 72/100\n",
            "78/78 [==============================] - 73s 931ms/step - loss: 0.1835 - accuracy: 0.9348 - val_loss: 0.2300 - val_accuracy: 0.9274\n",
            "Epoch 73/100\n",
            "78/78 [==============================] - 73s 931ms/step - loss: 0.1379 - accuracy: 0.9498 - val_loss: 0.2279 - val_accuracy: 0.9306\n",
            "Epoch 74/100\n",
            "78/78 [==============================] - 73s 939ms/step - loss: 0.1223 - accuracy: 0.9543 - val_loss: 0.1930 - val_accuracy: 0.9464\n",
            "Epoch 75/100\n",
            "78/78 [==============================] - 72s 925ms/step - loss: 0.1117 - accuracy: 0.9563 - val_loss: 0.2403 - val_accuracy: 0.9338\n",
            "Epoch 76/100\n",
            "78/78 [==============================] - 72s 922ms/step - loss: 0.1276 - accuracy: 0.9506 - val_loss: 0.2037 - val_accuracy: 0.9432\n",
            "Epoch 77/100\n",
            "78/78 [==============================] - 72s 925ms/step - loss: 0.1324 - accuracy: 0.9530 - val_loss: 0.1996 - val_accuracy: 0.9401\n",
            "Epoch 78/100\n",
            "78/78 [==============================] - 72s 917ms/step - loss: 0.1217 - accuracy: 0.9510 - val_loss: 0.1942 - val_accuracy: 0.9432\n",
            "Epoch 79/100\n",
            "78/78 [==============================] - 70s 897ms/step - loss: 0.1245 - accuracy: 0.9563 - val_loss: 0.2202 - val_accuracy: 0.9338\n",
            "Epoch 80/100\n",
            "78/78 [==============================] - 70s 893ms/step - loss: 0.1170 - accuracy: 0.9559 - val_loss: 0.2356 - val_accuracy: 0.9338\n",
            "Epoch 81/100\n",
            "78/78 [==============================] - 76s 980ms/step - loss: 0.1255 - accuracy: 0.9518 - val_loss: 0.2047 - val_accuracy: 0.9401\n",
            "Epoch 82/100\n",
            "78/78 [==============================] - 77s 982ms/step - loss: 0.1176 - accuracy: 0.9591 - val_loss: 0.2242 - val_accuracy: 0.9306\n",
            "Epoch 83/100\n",
            "78/78 [==============================] - 75s 958ms/step - loss: 0.1131 - accuracy: 0.9571 - val_loss: 0.2499 - val_accuracy: 0.9401\n",
            "Epoch 84/100\n",
            "78/78 [==============================] - 75s 961ms/step - loss: 0.1281 - accuracy: 0.9473 - val_loss: 0.2095 - val_accuracy: 0.9464\n",
            "Epoch 85/100\n",
            "78/78 [==============================] - 74s 951ms/step - loss: 0.1153 - accuracy: 0.9554 - val_loss: 0.2266 - val_accuracy: 0.9464\n",
            "Epoch 86/100\n",
            "78/78 [==============================] - 79s 1s/step - loss: 0.1042 - accuracy: 0.9635 - val_loss: 0.2668 - val_accuracy: 0.9243\n",
            "Epoch 87/100\n",
            "78/78 [==============================] - 75s 963ms/step - loss: 0.1150 - accuracy: 0.9554 - val_loss: 0.2223 - val_accuracy: 0.9432\n",
            "Epoch 88/100\n",
            "78/78 [==============================] - 75s 962ms/step - loss: 0.1059 - accuracy: 0.9591 - val_loss: 0.2110 - val_accuracy: 0.9464\n",
            "Epoch 89/100\n",
            "78/78 [==============================] - 75s 966ms/step - loss: 0.1288 - accuracy: 0.9514 - val_loss: 0.2311 - val_accuracy: 0.9306\n",
            "Epoch 90/100\n",
            "78/78 [==============================] - 75s 968ms/step - loss: 0.1061 - accuracy: 0.9615 - val_loss: 0.2026 - val_accuracy: 0.9432\n",
            "Epoch 91/100\n",
            "78/78 [==============================] - 75s 967ms/step - loss: 0.1122 - accuracy: 0.9587 - val_loss: 0.2113 - val_accuracy: 0.9369\n",
            "Epoch 92/100\n",
            "78/78 [==============================] - 76s 970ms/step - loss: 0.1027 - accuracy: 0.9640 - val_loss: 0.2520 - val_accuracy: 0.9432\n",
            "Epoch 93/100\n",
            "78/78 [==============================] - 74s 953ms/step - loss: 0.1123 - accuracy: 0.9583 - val_loss: 0.2100 - val_accuracy: 0.9401\n",
            "Epoch 94/100\n",
            "78/78 [==============================] - 72s 927ms/step - loss: 0.1117 - accuracy: 0.9530 - val_loss: 0.1762 - val_accuracy: 0.9590\n",
            "Epoch 95/100\n",
            "78/78 [==============================] - 73s 931ms/step - loss: 0.1038 - accuracy: 0.9619 - val_loss: 0.2634 - val_accuracy: 0.9338\n",
            "Epoch 96/100\n",
            "78/78 [==============================] - 74s 954ms/step - loss: 0.1010 - accuracy: 0.9652 - val_loss: 0.2193 - val_accuracy: 0.9558\n",
            "Epoch 97/100\n",
            "78/78 [==============================] - 76s 970ms/step - loss: 0.1020 - accuracy: 0.9640 - val_loss: 0.2325 - val_accuracy: 0.9527\n",
            "Epoch 98/100\n",
            "78/78 [==============================] - 76s 971ms/step - loss: 0.1202 - accuracy: 0.9542 - val_loss: 0.2223 - val_accuracy: 0.9464\n",
            "Epoch 99/100\n",
            "78/78 [==============================] - 74s 945ms/step - loss: 0.0943 - accuracy: 0.9640 - val_loss: 0.2123 - val_accuracy: 0.9464\n",
            "Epoch 100/100\n",
            "78/78 [==============================] - 78s 995ms/step - loss: 0.0863 - accuracy: 0.9684 - val_loss: 0.2441 - val_accuracy: 0.9464\n"
          ],
          "name": "stdout"
        }
      ]
    },
    {
      "cell_type": "code",
      "metadata": {
        "id": "qqhc2ju65rew"
      },
      "source": [
        "# Save the model\n",
        "model.save('/content/drive/MyDrive/AI Colab/Final Covid Diagnosis/Mini_model.h5')\n",
        "pd.DataFrame(Mini_H.history).to_csv('/content/drive/MyDrive/AI Colab/Final Covid Diagnosis/Mini_model.csv')"
      ],
      "execution_count": 88,
      "outputs": []
    },
    {
      "cell_type": "code",
      "metadata": {
        "id": "0ALVv9CPCa3w",
        "colab": {
          "base_uri": "https://localhost:8080/"
        },
        "outputId": "433661f1-2706-4adb-c046-0708fc78e842"
      },
      "source": [
        "print('Done')"
      ],
      "execution_count": 89,
      "outputs": [
        {
          "output_type": "stream",
          "text": [
            "Done\n"
          ],
          "name": "stdout"
        }
      ]
    },
    {
      "cell_type": "code",
      "metadata": {
        "id": "BExtW_e6CbSR"
      },
      "source": [
        ""
      ],
      "execution_count": null,
      "outputs": []
    },
    {
      "cell_type": "code",
      "metadata": {
        "id": "VJSI2XccCbco"
      },
      "source": [
        ""
      ],
      "execution_count": null,
      "outputs": []
    },
    {
      "cell_type": "code",
      "metadata": {
        "id": "Qonrp8bkCbj2"
      },
      "source": [
        ""
      ],
      "execution_count": null,
      "outputs": []
    },
    {
      "cell_type": "code",
      "metadata": {
        "id": "SRV0rhrxCbnw"
      },
      "source": [
        ""
      ],
      "execution_count": null,
      "outputs": []
    },
    {
      "cell_type": "code",
      "metadata": {
        "id": "C9KORauQCbr2"
      },
      "source": [
        ""
      ],
      "execution_count": null,
      "outputs": []
    },
    {
      "cell_type": "code",
      "metadata": {
        "id": "ScyVuV35Cb0y"
      },
      "source": [
        ""
      ],
      "execution_count": null,
      "outputs": []
    },
    {
      "cell_type": "code",
      "metadata": {
        "colab": {
          "base_uri": "https://localhost:8080/"
        },
        "id": "990iB3kdaeLX",
        "outputId": "c303f0fb-b3f2-49e5-a9ed-486d082c943b"
      },
      "source": [
        "model.evaluate(train_data_gen)"
      ],
      "execution_count": null,
      "outputs": [
        {
          "output_type": "stream",
          "text": [
            "79/79 [==============================] - 70s 891ms/step - loss: 0.2999 - accuracy: 0.8784\n"
          ],
          "name": "stdout"
        },
        {
          "output_type": "execute_result",
          "data": {
            "text/plain": [
              "[0.2999034821987152, 0.8784486055374146]"
            ]
          },
          "metadata": {
            "tags": []
          },
          "execution_count": 59
        }
      ]
    },
    {
      "cell_type": "code",
      "metadata": {
        "colab": {
          "base_uri": "https://localhost:8080/"
        },
        "id": "CQSxe2qtcLNF",
        "outputId": "dbac7708-ce34-46fc-d0d2-93338c345ec3"
      },
      "source": [
        "model.evaluate(val_data_gen)"
      ],
      "execution_count": null,
      "outputs": [
        {
          "output_type": "stream",
          "text": [
            "10/10 [==============================] - 5s 545ms/step - loss: 0.3172 - accuracy: 0.8896\n"
          ],
          "name": "stdout"
        },
        {
          "output_type": "execute_result",
          "data": {
            "text/plain": [
              "[0.31724685430526733, 0.8895899057388306]"
            ]
          },
          "metadata": {
            "tags": []
          },
          "execution_count": 60
        }
      ]
    }
  ]
}